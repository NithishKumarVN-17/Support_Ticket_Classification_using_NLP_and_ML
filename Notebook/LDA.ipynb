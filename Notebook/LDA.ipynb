{
 "cells": [
  {
   "cell_type": "code",
   "execution_count": 1,
   "id": "603bbc92",
   "metadata": {
    "ExecuteTime": {
     "end_time": "2024-09-22T06:23:57.062403Z",
     "start_time": "2024-09-22T06:23:48.898761Z"
    },
    "execution": {
     "iopub.execute_input": "2022-02-23T03:16:37.265991Z",
     "iopub.status.busy": "2022-02-23T03:16:37.264673Z",
     "iopub.status.idle": "2022-02-23T03:16:52.555951Z",
     "shell.execute_reply": "2022-02-23T03:16:52.555024Z"
    },
    "id": "O-Q9pqrcJrFr",
    "papermill": {
     "duration": 15.421599,
     "end_time": "2022-02-23T03:16:52.556163",
     "exception": false,
     "start_time": "2022-02-23T03:16:37.134564",
     "status": "completed"
    },
    "tags": []
   },
   "outputs": [],
   "source": [
    "import numpy as np\n",
    "import pandas as pd\n",
    "import json, re, nltk, spacy\n",
    "import seaborn as sns\n",
    "import matplotlib.pyplot as plt\n",
    "from sklearn.feature_extraction.text import CountVectorizer, TfidfVectorizer\n",
    "from sklearn.model_selection import train_test_split, RandomizedSearchCV\n",
    "from sklearn.metrics import accuracy_score, precision_score, recall_score, f1_score, confusion_matrix, classification_report\n",
    "from textblob import TextBlob\n",
    "from wordcloud import WordCloud, STOPWORDS\n",
    "import pickle\n",
    "\n",
    "from warnings import filterwarnings\n",
    "filterwarnings('ignore')\n",
    "%matplotlib inline"
   ]
  },
  {
   "cell_type": "markdown",
   "id": "301c672a",
   "metadata": {
    "id": "KtRLCsNVJrFt",
    "papermill": {
     "duration": 0.132282,
     "end_time": "2022-02-23T03:16:54.587429",
     "exception": false,
     "start_time": "2022-02-23T03:16:54.455147",
     "status": "completed"
    },
    "tags": []
   },
   "source": [
    "## Loading the data\n",
    "\n",
    "The data is in JSON format and we need to convert it to a dataframe."
   ]
  },
  {
   "cell_type": "code",
   "execution_count": 2,
   "id": "26dfb5a1",
   "metadata": {
    "ExecuteTime": {
     "end_time": "2024-09-22T06:24:00.554776Z",
     "start_time": "2024-09-22T06:23:57.062403Z"
    },
    "execution": {
     "iopub.execute_input": "2022-02-23T03:16:54.855706Z",
     "iopub.status.busy": "2022-02-23T03:16:54.854535Z",
     "iopub.status.idle": "2022-02-23T03:16:59.658707Z",
     "shell.execute_reply": "2022-02-23T03:16:59.657962Z"
    },
    "id": "puVzIf_iJrFt",
    "papermill": {
     "duration": 4.938728,
     "end_time": "2022-02-23T03:16:59.658881",
     "exception": false,
     "start_time": "2022-02-23T03:16:54.720153",
     "status": "completed"
    },
    "tags": []
   },
   "outputs": [],
   "source": [
    "with open(r'C:\\Users\\vnnit\\Desktop\\Projects\\Support Ticket Classfication\\Dataset\\complaints-2021-05-14_08_16.json') as f:\n",
    "    data = json.load(f)\n",
    "df = pd.json_normalize(data)"
   ]
  },
  {
   "cell_type": "code",
   "execution_count": 95,
   "id": "159b2d68",
   "metadata": {
    "ExecuteTime": {
     "end_time": "2024-09-22T06:24:01.168225Z",
     "start_time": "2024-09-22T06:24:01.153662Z"
    }
   },
   "outputs": [
    {
     "data": {
      "text/plain": [
       "Index(['_index', '_type', '_id', '_score', 'tags', 'zip_code', 'complaint_id',\n",
       "       'issue', 'date_received', 'state', 'consumer_disputed', 'product',\n",
       "       'company_response', 'company', 'submitted_via', 'date_sent_to_company',\n",
       "       'company_public_response', 'sub_product', 'timely',\n",
       "       'complaint_what_happened', 'sub_issue', 'consumer_consent_provided'],\n",
       "      dtype='object')"
      ]
     },
     "execution_count": 95,
     "metadata": {},
     "output_type": "execute_result"
    }
   ],
   "source": [
    "def return_column_name(col_name: str) -> str:\n",
    "    return col_name.split('.')[-1]\n",
    "df.columns = list(map(return_column_name, df.columns))\n",
    "df.columns"
   ]
  },
  {
   "cell_type": "markdown",
   "id": "a1370925",
   "metadata": {},
   "source": [
    "# Filling blank values and removing NaN values"
   ]
  },
  {
   "cell_type": "code",
   "execution_count": 12,
   "id": "4c42f0ed",
   "metadata": {
    "ExecuteTime": {
     "end_time": "2024-09-22T06:24:01.619846Z",
     "start_time": "2024-09-22T06:24:01.486507Z"
    },
    "execution": {
     "iopub.execute_input": "2022-02-23T03:17:01.641975Z",
     "iopub.status.busy": "2022-02-23T03:17:01.641164Z",
     "iopub.status.idle": "2022-02-23T03:17:01.926051Z",
     "shell.execute_reply": "2022-02-23T03:17:01.926604Z"
    },
    "id": "grQUPFL5JrFx",
    "papermill": {
     "duration": 0.448982,
     "end_time": "2022-02-23T03:17:01.926789",
     "exception": false,
     "start_time": "2022-02-23T03:17:01.477807",
     "status": "completed"
    },
    "tags": []
   },
   "outputs": [],
   "source": [
    "#Assign nan in place of blanks in the complaints column\n",
    "df[df.loc[:, 'complaint_what_happened'] == ''] = np.nan\n",
    "#Remove all rows where complaints column is nan\n",
    "df = df[~df['complaint_what_happened'].isnull()]\n",
    "# resetting index value\n",
    "df = df.reset_index(drop= True)"
   ]
  },
  {
   "cell_type": "code",
   "execution_count": 19,
   "id": "159fee5e",
   "metadata": {
    "ExecuteTime": {
     "end_time": "2024-09-22T06:24:01.817523Z",
     "start_time": "2024-09-22T06:24:01.777062Z"
    },
    "execution": {
     "iopub.execute_input": "2022-02-23T03:17:03.779128Z",
     "iopub.status.busy": "2022-02-23T03:17:03.778320Z",
     "iopub.status.idle": "2022-02-23T03:17:03.781172Z",
     "shell.execute_reply": "2022-02-23T03:17:03.781779Z"
    },
    "papermill": {
     "duration": 0.153128,
     "end_time": "2022-02-23T03:17:03.782031",
     "exception": false,
     "start_time": "2022-02-23T03:17:03.628903",
     "status": "completed"
    },
    "tags": []
   },
   "outputs": [],
   "source": [
    "# Convert complaint_what_happened column to string for performing text operations\n",
    "df['complaint_what_happened'] = df['complaint_what_happened'].astype(str)"
   ]
  },
  {
   "cell_type": "markdown",
   "id": "4e63df21",
   "metadata": {},
   "source": [
    "# Removing unwanted text"
   ]
  },
  {
   "cell_type": "code",
   "execution_count": 20,
   "id": "dd98bdd1",
   "metadata": {
    "ExecuteTime": {
     "end_time": "2024-09-22T06:24:01.833579Z",
     "start_time": "2024-09-22T06:24:01.819935Z"
    }
   },
   "outputs": [],
   "source": [
    "def clean_text(text):\n",
    "    text = text.lower()\n",
    "    # Remove text in square brackets\n",
    "    text = re.sub(r'\\[.*?\\]', '', text)\n",
    "    # Remove punctuation\n",
    "    text = re.sub(r'[^\\w\\s]', '', text)\n",
    "    # Remove words containing numbers\n",
    "    text = re.sub(r'\\b\\w*\\d\\w*\\b', '', text)\n",
    "    # Remove extra whitespace\n",
    "    text = re.sub(r'\\s+', ' ', text).strip()\n",
    "    return text\n",
    "\n",
    "def remove_repeated_char_words(text):\n",
    "    # Use regex to remove words consisting of the same character repeated\n",
    "    cleaned_text = re.sub(r'\\b(\\w)\\1{1,}\\b', '', text)\n",
    "    # Remove extra whitespace\n",
    "    cleaned_text = re.sub(r'\\s+', ' ', cleaned_text).strip()\n",
    "    return cleaned_text\n",
    "\n",
    "nlp = spacy.load('en_core_web_sm')\n",
    "def lemmatize_text(text):\n",
    "    doc = nlp(text)\n",
    "    stop_words = list(STOPWORDS)\n",
    "    lemmatized_text = ' '.join([token.lemma_ for token in doc if token.lemma_ not in stop_words])\n",
    "    return lemmatized_text\n",
    "\n",
    "def get_POS_tags(text):\n",
    "    tags_required = {'NN', 'JJ', 'VB'}\n",
    "    blob = TextBlob(text)\n",
    "    relevant_words = ' '.join(\n",
    "        [word for word, tag in blob.tags if tag in tags_required])\n",
    "    return relevant_words"
   ]
  },
  {
   "cell_type": "code",
   "execution_count": 21,
   "id": "e6a54202",
   "metadata": {
    "ExecuteTime": {
     "end_time": "2024-09-22T06:24:04.912631Z",
     "start_time": "2024-09-22T06:24:01.835854Z"
    },
    "execution": {
     "iopub.execute_input": "2022-02-23T03:17:04.363144Z",
     "iopub.status.busy": "2022-02-23T03:17:04.362337Z",
     "iopub.status.idle": "2022-02-23T03:17:11.660294Z",
     "shell.execute_reply": "2022-02-23T03:17:11.660883Z"
    },
    "papermill": {
     "duration": 7.441271,
     "end_time": "2022-02-23T03:17:11.661065",
     "exception": false,
     "start_time": "2022-02-23T03:17:04.219794",
     "status": "completed"
    },
    "tags": []
   },
   "outputs": [
    {
     "data": {
      "text/html": [
       "<div>\n",
       "<style scoped>\n",
       "    .dataframe tbody tr th:only-of-type {\n",
       "        vertical-align: middle;\n",
       "    }\n",
       "\n",
       "    .dataframe tbody tr th {\n",
       "        vertical-align: top;\n",
       "    }\n",
       "\n",
       "    .dataframe thead th {\n",
       "        text-align: right;\n",
       "    }\n",
       "</style>\n",
       "<table border=\"1\" class=\"dataframe\">\n",
       "  <thead>\n",
       "    <tr style=\"text-align: right;\">\n",
       "      <th></th>\n",
       "      <th>complaint_what_happened</th>\n",
       "    </tr>\n",
       "  </thead>\n",
       "  <tbody>\n",
       "    <tr>\n",
       "      <th>0</th>\n",
       "      <td>good morning my name is xxxx xxxx and i apprec...</td>\n",
       "    </tr>\n",
       "    <tr>\n",
       "      <th>1</th>\n",
       "      <td>i upgraded my xxxx xxxx card in and was told b...</td>\n",
       "    </tr>\n",
       "    <tr>\n",
       "      <th>2</th>\n",
       "      <td>chase card was reported on however fraudulent ...</td>\n",
       "    </tr>\n",
       "    <tr>\n",
       "      <th>3</th>\n",
       "      <td>on while trying to book a xxxx xxxx ticket i c...</td>\n",
       "    </tr>\n",
       "    <tr>\n",
       "      <th>4</th>\n",
       "      <td>my grand son give me check for i deposit it in...</td>\n",
       "    </tr>\n",
       "    <tr>\n",
       "      <th>...</th>\n",
       "      <td>...</td>\n",
       "    </tr>\n",
       "    <tr>\n",
       "      <th>21067</th>\n",
       "      <td>after being a chase card customer for well ove...</td>\n",
       "    </tr>\n",
       "    <tr>\n",
       "      <th>21068</th>\n",
       "      <td>on wednesday xxxxxxxx i called chas my xxxx xx...</td>\n",
       "    </tr>\n",
       "    <tr>\n",
       "      <th>21069</th>\n",
       "      <td>i am not familiar with xxxx pay and did not un...</td>\n",
       "    </tr>\n",
       "    <tr>\n",
       "      <th>21070</th>\n",
       "      <td>i have had flawless credit for yrs ive had cha...</td>\n",
       "    </tr>\n",
       "    <tr>\n",
       "      <th>21071</th>\n",
       "      <td>roughly years ago i closed out my accounts wit...</td>\n",
       "    </tr>\n",
       "  </tbody>\n",
       "</table>\n",
       "<p>21072 rows × 1 columns</p>\n",
       "</div>"
      ],
      "text/plain": [
       "                                 complaint_what_happened\n",
       "0      good morning my name is xxxx xxxx and i apprec...\n",
       "1      i upgraded my xxxx xxxx card in and was told b...\n",
       "2      chase card was reported on however fraudulent ...\n",
       "3      on while trying to book a xxxx xxxx ticket i c...\n",
       "4      my grand son give me check for i deposit it in...\n",
       "...                                                  ...\n",
       "21067  after being a chase card customer for well ove...\n",
       "21068  on wednesday xxxxxxxx i called chas my xxxx xx...\n",
       "21069  i am not familiar with xxxx pay and did not un...\n",
       "21070  i have had flawless credit for yrs ive had cha...\n",
       "21071  roughly years ago i closed out my accounts wit...\n",
       "\n",
       "[21072 rows x 1 columns]"
      ]
     },
     "execution_count": 21,
     "metadata": {},
     "output_type": "execute_result"
    }
   ],
   "source": [
    "df_clean = pd.DataFrame(df['complaint_what_happened'].apply(clean_text))\n",
    "df_clean['complaint_xxx_removed'] = df_clean['complaint_what_happened'].apply(remove_repeated_char_words)\n",
    "df_clean['complaint_lemmatized'] = df_clean['complaint_xxx_removed'].apply(lemmatize_text)\n",
    "df_clean['complaint_POS_removed'] = df_clean['complaint_lemmatized'].apply(get_POS_tags)\n",
    "\n",
    "df_clean"
   ]
  },
  {
   "cell_type": "markdown",
   "id": "44c8570e",
   "metadata": {},
   "source": [
    "# Lemmatizing the text"
   ]
  },
  {
   "cell_type": "markdown",
   "id": "be581bbe",
   "metadata": {},
   "source": [
    "# Removing rows where length of the sentence is less than 10"
   ]
  },
  {
   "cell_type": "code",
   "execution_count": 37,
   "id": "8c62b0ae",
   "metadata": {
    "ExecuteTime": {
     "end_time": "2024-09-22T06:36:50.031107Z",
     "start_time": "2024-09-22T06:36:49.999452Z"
    }
   },
   "outputs": [
    {
     "data": {
      "text/plain": [
       "[58,\n",
       " 578,\n",
       " 1105,\n",
       " 1619,\n",
       " 2813,\n",
       " 3194,\n",
       " 3771,\n",
       " 4899,\n",
       " 4988,\n",
       " 7741,\n",
       " 8070,\n",
       " 8369,\n",
       " 11611,\n",
       " 13219,\n",
       " 13281,\n",
       " 17326,\n",
       " 20236]"
      ]
     },
     "execution_count": 37,
     "metadata": {},
     "output_type": "execute_result"
    }
   ],
   "source": [
    "less_char_rows = list(df_clean[df_clean['complaint_POS_removed'].apply(lambda x: len(x) < 10)].index)\n",
    "df_clean = df_clean.drop(index=less_char_rows)\n",
    "df_clean = df_clean.reset_index(drop= True)\n",
    "df_clean"
   ]
  },
  {
   "cell_type": "code",
   "execution_count": 38,
   "id": "7745a40e",
   "metadata": {
    "ExecuteTime": {
     "end_time": "2024-09-22T06:36:50.078003Z",
     "start_time": "2024-09-22T06:36:50.031107Z"
    }
   },
   "outputs": [
    {
     "data": {
      "text/html": [
       "<div>\n",
       "<style scoped>\n",
       "    .dataframe tbody tr th:only-of-type {\n",
       "        vertical-align: middle;\n",
       "    }\n",
       "\n",
       "    .dataframe tbody tr th {\n",
       "        vertical-align: top;\n",
       "    }\n",
       "\n",
       "    .dataframe thead th {\n",
       "        text-align: right;\n",
       "    }\n",
       "</style>\n",
       "<table border=\"1\" class=\"dataframe\">\n",
       "  <thead>\n",
       "    <tr style=\"text-align: right;\">\n",
       "      <th></th>\n",
       "      <th>complaint_what_happened</th>\n",
       "      <th>complaint_xxx_removed</th>\n",
       "      <th>complaint_lemmatized</th>\n",
       "      <th>complaint_POS_removed</th>\n",
       "    </tr>\n",
       "  </thead>\n",
       "  <tbody>\n",
       "    <tr>\n",
       "      <th>0</th>\n",
       "      <td>good morning my name is xxxx xxxx and i apprec...</td>\n",
       "      <td>good morning my name is and i appreciate it if...</td>\n",
       "      <td>good morning name I appreciate help I put stop...</td>\n",
       "      <td>good morning name help stop chase bank service...</td>\n",
       "    </tr>\n",
       "    <tr>\n",
       "      <th>1</th>\n",
       "      <td>i upgraded my xxxx xxxx card in and was told b...</td>\n",
       "      <td>i upgraded my card in and was told by the agen...</td>\n",
       "      <td>I upgrade card tell agent upgrade anniversary ...</td>\n",
       "      <td>agent upgrade anniversary date change agent wr...</td>\n",
       "    </tr>\n",
       "    <tr>\n",
       "      <th>2</th>\n",
       "      <td>chase card was reported on however fraudulent ...</td>\n",
       "      <td>chase card was reported on however fraudulent ...</td>\n",
       "      <td>chase card report fraudulent application submi...</td>\n",
       "      <td>chase card report fraudulent application submi...</td>\n",
       "    </tr>\n",
       "    <tr>\n",
       "      <th>3</th>\n",
       "      <td>on while trying to book a xxxx xxxx ticket i c...</td>\n",
       "      <td>on while trying to book a ticket i came across...</td>\n",
       "      <td>try book ticket I come across offer apply towa...</td>\n",
       "      <td>try book ticket offer apply ticket reward card...</td>\n",
       "    </tr>\n",
       "    <tr>\n",
       "      <th>4</th>\n",
       "      <td>my grand son give me check for i deposit it in...</td>\n",
       "      <td>my grand son give me check for i deposit it in...</td>\n",
       "      <td>grand son give I check I deposit chase account...</td>\n",
       "      <td>grand son chase account fund clear chase bank ...</td>\n",
       "    </tr>\n",
       "    <tr>\n",
       "      <th>...</th>\n",
       "      <td>...</td>\n",
       "      <td>...</td>\n",
       "      <td>...</td>\n",
       "      <td>...</td>\n",
       "    </tr>\n",
       "    <tr>\n",
       "      <th>21050</th>\n",
       "      <td>after being a chase card customer for well ove...</td>\n",
       "      <td>after being a chase card customer for well ove...</td>\n",
       "      <td>chase card customer well decade offer multiple...</td>\n",
       "      <td>chase card customer decade offer multiple soli...</td>\n",
       "    </tr>\n",
       "    <tr>\n",
       "      <th>21051</th>\n",
       "      <td>on wednesday xxxxxxxx i called chas my xxxx xx...</td>\n",
       "      <td>on wednesday i called chas my visa credit card...</td>\n",
       "      <td>wednesday I call chas visa credit card provide...</td>\n",
       "      <td>wednesday chas visa credit card provider claim...</td>\n",
       "    </tr>\n",
       "    <tr>\n",
       "      <th>21052</th>\n",
       "      <td>i am not familiar with xxxx pay and did not un...</td>\n",
       "      <td>i am not familiar with pay and did not underst...</td>\n",
       "      <td>I familiar pay understand great risk provide c...</td>\n",
       "      <td>familiar pay great risk consumer safe chase ba...</td>\n",
       "    </tr>\n",
       "    <tr>\n",
       "      <th>21053</th>\n",
       "      <td>i have had flawless credit for yrs ive had cha...</td>\n",
       "      <td>i have had flawless credit for yrs ive had cha...</td>\n",
       "      <td>I flawless credit yrs I ve chase credit card c...</td>\n",
       "      <td>credit yrs chase credit card chase freedom pro...</td>\n",
       "    </tr>\n",
       "    <tr>\n",
       "      <th>21054</th>\n",
       "      <td>roughly years ago i closed out my accounts wit...</td>\n",
       "      <td>roughly years ago i closed out my accounts wit...</td>\n",
       "      <td>roughly year ago I close account jp morgan cha...</td>\n",
       "      <td>year account jp morgan chase bank order close ...</td>\n",
       "    </tr>\n",
       "  </tbody>\n",
       "</table>\n",
       "<p>21055 rows × 4 columns</p>\n",
       "</div>"
      ],
      "text/plain": [
       "                                 complaint_what_happened  \\\n",
       "0      good morning my name is xxxx xxxx and i apprec...   \n",
       "1      i upgraded my xxxx xxxx card in and was told b...   \n",
       "2      chase card was reported on however fraudulent ...   \n",
       "3      on while trying to book a xxxx xxxx ticket i c...   \n",
       "4      my grand son give me check for i deposit it in...   \n",
       "...                                                  ...   \n",
       "21050  after being a chase card customer for well ove...   \n",
       "21051  on wednesday xxxxxxxx i called chas my xxxx xx...   \n",
       "21052  i am not familiar with xxxx pay and did not un...   \n",
       "21053  i have had flawless credit for yrs ive had cha...   \n",
       "21054  roughly years ago i closed out my accounts wit...   \n",
       "\n",
       "                                   complaint_xxx_removed  \\\n",
       "0      good morning my name is and i appreciate it if...   \n",
       "1      i upgraded my card in and was told by the agen...   \n",
       "2      chase card was reported on however fraudulent ...   \n",
       "3      on while trying to book a ticket i came across...   \n",
       "4      my grand son give me check for i deposit it in...   \n",
       "...                                                  ...   \n",
       "21050  after being a chase card customer for well ove...   \n",
       "21051  on wednesday i called chas my visa credit card...   \n",
       "21052  i am not familiar with pay and did not underst...   \n",
       "21053  i have had flawless credit for yrs ive had cha...   \n",
       "21054  roughly years ago i closed out my accounts wit...   \n",
       "\n",
       "                                    complaint_lemmatized  \\\n",
       "0      good morning name I appreciate help I put stop...   \n",
       "1      I upgrade card tell agent upgrade anniversary ...   \n",
       "2      chase card report fraudulent application submi...   \n",
       "3      try book ticket I come across offer apply towa...   \n",
       "4      grand son give I check I deposit chase account...   \n",
       "...                                                  ...   \n",
       "21050  chase card customer well decade offer multiple...   \n",
       "21051  wednesday I call chas visa credit card provide...   \n",
       "21052  I familiar pay understand great risk provide c...   \n",
       "21053  I flawless credit yrs I ve chase credit card c...   \n",
       "21054  roughly year ago I close account jp morgan cha...   \n",
       "\n",
       "                                   complaint_POS_removed  \n",
       "0      good morning name help stop chase bank service...  \n",
       "1      agent upgrade anniversary date change agent wr...  \n",
       "2      chase card report fraudulent application submi...  \n",
       "3      try book ticket offer apply ticket reward card...  \n",
       "4      grand son chase account fund clear chase bank ...  \n",
       "...                                                  ...  \n",
       "21050  chase card customer decade offer multiple soli...  \n",
       "21051  wednesday chas visa credit card provider claim...  \n",
       "21052  familiar pay great risk consumer safe chase ba...  \n",
       "21053  credit yrs chase credit card chase freedom pro...  \n",
       "21054  year account jp morgan chase bank order close ...  \n",
       "\n",
       "[21055 rows x 4 columns]"
      ]
     },
     "execution_count": 38,
     "metadata": {},
     "output_type": "execute_result"
    }
   ],
   "source": []
  },
  {
   "cell_type": "markdown",
   "id": "69fa6180",
   "metadata": {
    "id": "k-I0k0QtJrGA",
    "papermill": {
     "duration": 0.157839,
     "end_time": "2022-02-23T03:41:32.405681",
     "exception": false,
     "start_time": "2022-02-23T03:41:32.247842",
     "status": "completed"
    },
    "tags": []
   },
   "source": [
    "## Feature Extraction\n",
    "Transform the raw text into a matrix of TF-IDF features.\n",
    "\n",
    "**max_df** helps eliminate terms that occur too often, often referred to as \"corpus-specific stop words.\" Setting max_df = 0.95 means \"ignore terms that appear in more than 95% of the complaints.\"\n",
    "\n",
    "**min_df** is used to filter out terms that are too rare. Setting min_df = 2 means \"ignore terms that appear in fewer than 2 complaints.\""
   ]
  },
  {
   "cell_type": "code",
   "execution_count": 56,
   "id": "68e57f38",
   "metadata": {
    "ExecuteTime": {
     "end_time": "2024-09-22T08:10:10.508518Z",
     "start_time": "2024-09-22T08:10:10.484762Z"
    },
    "execution": {
     "iopub.execute_input": "2022-02-23T03:41:32.727037Z",
     "iopub.status.busy": "2022-02-23T03:41:32.726031Z",
     "iopub.status.idle": "2022-02-23T03:41:32.730248Z",
     "shell.execute_reply": "2022-02-23T03:41:32.730863Z"
    },
    "id": "Y8fGwaCPJrGA",
    "papermill": {
     "duration": 0.166663,
     "end_time": "2022-02-23T03:41:32.731058",
     "exception": false,
     "start_time": "2022-02-23T03:41:32.564395",
     "status": "completed"
    },
    "tags": []
   },
   "outputs": [
    {
     "data": {
      "text/html": [
       "<style>#sk-container-id-1 {\n",
       "  /* Definition of color scheme common for light and dark mode */\n",
       "  --sklearn-color-text: black;\n",
       "  --sklearn-color-line: gray;\n",
       "  /* Definition of color scheme for unfitted estimators */\n",
       "  --sklearn-color-unfitted-level-0: #fff5e6;\n",
       "  --sklearn-color-unfitted-level-1: #f6e4d2;\n",
       "  --sklearn-color-unfitted-level-2: #ffe0b3;\n",
       "  --sklearn-color-unfitted-level-3: chocolate;\n",
       "  /* Definition of color scheme for fitted estimators */\n",
       "  --sklearn-color-fitted-level-0: #f0f8ff;\n",
       "  --sklearn-color-fitted-level-1: #d4ebff;\n",
       "  --sklearn-color-fitted-level-2: #b3dbfd;\n",
       "  --sklearn-color-fitted-level-3: cornflowerblue;\n",
       "\n",
       "  /* Specific color for light theme */\n",
       "  --sklearn-color-text-on-default-background: var(--sg-text-color, var(--theme-code-foreground, var(--jp-content-font-color1, black)));\n",
       "  --sklearn-color-background: var(--sg-background-color, var(--theme-background, var(--jp-layout-color0, white)));\n",
       "  --sklearn-color-border-box: var(--sg-text-color, var(--theme-code-foreground, var(--jp-content-font-color1, black)));\n",
       "  --sklearn-color-icon: #696969;\n",
       "\n",
       "  @media (prefers-color-scheme: dark) {\n",
       "    /* Redefinition of color scheme for dark theme */\n",
       "    --sklearn-color-text-on-default-background: var(--sg-text-color, var(--theme-code-foreground, var(--jp-content-font-color1, white)));\n",
       "    --sklearn-color-background: var(--sg-background-color, var(--theme-background, var(--jp-layout-color0, #111)));\n",
       "    --sklearn-color-border-box: var(--sg-text-color, var(--theme-code-foreground, var(--jp-content-font-color1, white)));\n",
       "    --sklearn-color-icon: #878787;\n",
       "  }\n",
       "}\n",
       "\n",
       "#sk-container-id-1 {\n",
       "  color: var(--sklearn-color-text);\n",
       "}\n",
       "\n",
       "#sk-container-id-1 pre {\n",
       "  padding: 0;\n",
       "}\n",
       "\n",
       "#sk-container-id-1 input.sk-hidden--visually {\n",
       "  border: 0;\n",
       "  clip: rect(1px 1px 1px 1px);\n",
       "  clip: rect(1px, 1px, 1px, 1px);\n",
       "  height: 1px;\n",
       "  margin: -1px;\n",
       "  overflow: hidden;\n",
       "  padding: 0;\n",
       "  position: absolute;\n",
       "  width: 1px;\n",
       "}\n",
       "\n",
       "#sk-container-id-1 div.sk-dashed-wrapped {\n",
       "  border: 1px dashed var(--sklearn-color-line);\n",
       "  margin: 0 0.4em 0.5em 0.4em;\n",
       "  box-sizing: border-box;\n",
       "  padding-bottom: 0.4em;\n",
       "  background-color: var(--sklearn-color-background);\n",
       "}\n",
       "\n",
       "#sk-container-id-1 div.sk-container {\n",
       "  /* jupyter's `normalize.less` sets `[hidden] { display: none; }`\n",
       "     but bootstrap.min.css set `[hidden] { display: none !important; }`\n",
       "     so we also need the `!important` here to be able to override the\n",
       "     default hidden behavior on the sphinx rendered scikit-learn.org.\n",
       "     See: https://github.com/scikit-learn/scikit-learn/issues/21755 */\n",
       "  display: inline-block !important;\n",
       "  position: relative;\n",
       "}\n",
       "\n",
       "#sk-container-id-1 div.sk-text-repr-fallback {\n",
       "  display: none;\n",
       "}\n",
       "\n",
       "div.sk-parallel-item,\n",
       "div.sk-serial,\n",
       "div.sk-item {\n",
       "  /* draw centered vertical line to link estimators */\n",
       "  background-image: linear-gradient(var(--sklearn-color-text-on-default-background), var(--sklearn-color-text-on-default-background));\n",
       "  background-size: 2px 100%;\n",
       "  background-repeat: no-repeat;\n",
       "  background-position: center center;\n",
       "}\n",
       "\n",
       "/* Parallel-specific style estimator block */\n",
       "\n",
       "#sk-container-id-1 div.sk-parallel-item::after {\n",
       "  content: \"\";\n",
       "  width: 100%;\n",
       "  border-bottom: 2px solid var(--sklearn-color-text-on-default-background);\n",
       "  flex-grow: 1;\n",
       "}\n",
       "\n",
       "#sk-container-id-1 div.sk-parallel {\n",
       "  display: flex;\n",
       "  align-items: stretch;\n",
       "  justify-content: center;\n",
       "  background-color: var(--sklearn-color-background);\n",
       "  position: relative;\n",
       "}\n",
       "\n",
       "#sk-container-id-1 div.sk-parallel-item {\n",
       "  display: flex;\n",
       "  flex-direction: column;\n",
       "}\n",
       "\n",
       "#sk-container-id-1 div.sk-parallel-item:first-child::after {\n",
       "  align-self: flex-end;\n",
       "  width: 50%;\n",
       "}\n",
       "\n",
       "#sk-container-id-1 div.sk-parallel-item:last-child::after {\n",
       "  align-self: flex-start;\n",
       "  width: 50%;\n",
       "}\n",
       "\n",
       "#sk-container-id-1 div.sk-parallel-item:only-child::after {\n",
       "  width: 0;\n",
       "}\n",
       "\n",
       "/* Serial-specific style estimator block */\n",
       "\n",
       "#sk-container-id-1 div.sk-serial {\n",
       "  display: flex;\n",
       "  flex-direction: column;\n",
       "  align-items: center;\n",
       "  background-color: var(--sklearn-color-background);\n",
       "  padding-right: 1em;\n",
       "  padding-left: 1em;\n",
       "}\n",
       "\n",
       "\n",
       "/* Toggleable style: style used for estimator/Pipeline/ColumnTransformer box that is\n",
       "clickable and can be expanded/collapsed.\n",
       "- Pipeline and ColumnTransformer use this feature and define the default style\n",
       "- Estimators will overwrite some part of the style using the `sk-estimator` class\n",
       "*/\n",
       "\n",
       "/* Pipeline and ColumnTransformer style (default) */\n",
       "\n",
       "#sk-container-id-1 div.sk-toggleable {\n",
       "  /* Default theme specific background. It is overwritten whether we have a\n",
       "  specific estimator or a Pipeline/ColumnTransformer */\n",
       "  background-color: var(--sklearn-color-background);\n",
       "}\n",
       "\n",
       "/* Toggleable label */\n",
       "#sk-container-id-1 label.sk-toggleable__label {\n",
       "  cursor: pointer;\n",
       "  display: block;\n",
       "  width: 100%;\n",
       "  margin-bottom: 0;\n",
       "  padding: 0.5em;\n",
       "  box-sizing: border-box;\n",
       "  text-align: center;\n",
       "}\n",
       "\n",
       "#sk-container-id-1 label.sk-toggleable__label-arrow:before {\n",
       "  /* Arrow on the left of the label */\n",
       "  content: \"▸\";\n",
       "  float: left;\n",
       "  margin-right: 0.25em;\n",
       "  color: var(--sklearn-color-icon);\n",
       "}\n",
       "\n",
       "#sk-container-id-1 label.sk-toggleable__label-arrow:hover:before {\n",
       "  color: var(--sklearn-color-text);\n",
       "}\n",
       "\n",
       "/* Toggleable content - dropdown */\n",
       "\n",
       "#sk-container-id-1 div.sk-toggleable__content {\n",
       "  max-height: 0;\n",
       "  max-width: 0;\n",
       "  overflow: hidden;\n",
       "  text-align: left;\n",
       "  /* unfitted */\n",
       "  background-color: var(--sklearn-color-unfitted-level-0);\n",
       "}\n",
       "\n",
       "#sk-container-id-1 div.sk-toggleable__content.fitted {\n",
       "  /* fitted */\n",
       "  background-color: var(--sklearn-color-fitted-level-0);\n",
       "}\n",
       "\n",
       "#sk-container-id-1 div.sk-toggleable__content pre {\n",
       "  margin: 0.2em;\n",
       "  border-radius: 0.25em;\n",
       "  color: var(--sklearn-color-text);\n",
       "  /* unfitted */\n",
       "  background-color: var(--sklearn-color-unfitted-level-0);\n",
       "}\n",
       "\n",
       "#sk-container-id-1 div.sk-toggleable__content.fitted pre {\n",
       "  /* unfitted */\n",
       "  background-color: var(--sklearn-color-fitted-level-0);\n",
       "}\n",
       "\n",
       "#sk-container-id-1 input.sk-toggleable__control:checked~div.sk-toggleable__content {\n",
       "  /* Expand drop-down */\n",
       "  max-height: 200px;\n",
       "  max-width: 100%;\n",
       "  overflow: auto;\n",
       "}\n",
       "\n",
       "#sk-container-id-1 input.sk-toggleable__control:checked~label.sk-toggleable__label-arrow:before {\n",
       "  content: \"▾\";\n",
       "}\n",
       "\n",
       "/* Pipeline/ColumnTransformer-specific style */\n",
       "\n",
       "#sk-container-id-1 div.sk-label input.sk-toggleable__control:checked~label.sk-toggleable__label {\n",
       "  color: var(--sklearn-color-text);\n",
       "  background-color: var(--sklearn-color-unfitted-level-2);\n",
       "}\n",
       "\n",
       "#sk-container-id-1 div.sk-label.fitted input.sk-toggleable__control:checked~label.sk-toggleable__label {\n",
       "  background-color: var(--sklearn-color-fitted-level-2);\n",
       "}\n",
       "\n",
       "/* Estimator-specific style */\n",
       "\n",
       "/* Colorize estimator box */\n",
       "#sk-container-id-1 div.sk-estimator input.sk-toggleable__control:checked~label.sk-toggleable__label {\n",
       "  /* unfitted */\n",
       "  background-color: var(--sklearn-color-unfitted-level-2);\n",
       "}\n",
       "\n",
       "#sk-container-id-1 div.sk-estimator.fitted input.sk-toggleable__control:checked~label.sk-toggleable__label {\n",
       "  /* fitted */\n",
       "  background-color: var(--sklearn-color-fitted-level-2);\n",
       "}\n",
       "\n",
       "#sk-container-id-1 div.sk-label label.sk-toggleable__label,\n",
       "#sk-container-id-1 div.sk-label label {\n",
       "  /* The background is the default theme color */\n",
       "  color: var(--sklearn-color-text-on-default-background);\n",
       "}\n",
       "\n",
       "/* On hover, darken the color of the background */\n",
       "#sk-container-id-1 div.sk-label:hover label.sk-toggleable__label {\n",
       "  color: var(--sklearn-color-text);\n",
       "  background-color: var(--sklearn-color-unfitted-level-2);\n",
       "}\n",
       "\n",
       "/* Label box, darken color on hover, fitted */\n",
       "#sk-container-id-1 div.sk-label.fitted:hover label.sk-toggleable__label.fitted {\n",
       "  color: var(--sklearn-color-text);\n",
       "  background-color: var(--sklearn-color-fitted-level-2);\n",
       "}\n",
       "\n",
       "/* Estimator label */\n",
       "\n",
       "#sk-container-id-1 div.sk-label label {\n",
       "  font-family: monospace;\n",
       "  font-weight: bold;\n",
       "  display: inline-block;\n",
       "  line-height: 1.2em;\n",
       "}\n",
       "\n",
       "#sk-container-id-1 div.sk-label-container {\n",
       "  text-align: center;\n",
       "}\n",
       "\n",
       "/* Estimator-specific */\n",
       "#sk-container-id-1 div.sk-estimator {\n",
       "  font-family: monospace;\n",
       "  border: 1px dotted var(--sklearn-color-border-box);\n",
       "  border-radius: 0.25em;\n",
       "  box-sizing: border-box;\n",
       "  margin-bottom: 0.5em;\n",
       "  /* unfitted */\n",
       "  background-color: var(--sklearn-color-unfitted-level-0);\n",
       "}\n",
       "\n",
       "#sk-container-id-1 div.sk-estimator.fitted {\n",
       "  /* fitted */\n",
       "  background-color: var(--sklearn-color-fitted-level-0);\n",
       "}\n",
       "\n",
       "/* on hover */\n",
       "#sk-container-id-1 div.sk-estimator:hover {\n",
       "  /* unfitted */\n",
       "  background-color: var(--sklearn-color-unfitted-level-2);\n",
       "}\n",
       "\n",
       "#sk-container-id-1 div.sk-estimator.fitted:hover {\n",
       "  /* fitted */\n",
       "  background-color: var(--sklearn-color-fitted-level-2);\n",
       "}\n",
       "\n",
       "/* Specification for estimator info (e.g. \"i\" and \"?\") */\n",
       "\n",
       "/* Common style for \"i\" and \"?\" */\n",
       "\n",
       ".sk-estimator-doc-link,\n",
       "a:link.sk-estimator-doc-link,\n",
       "a:visited.sk-estimator-doc-link {\n",
       "  float: right;\n",
       "  font-size: smaller;\n",
       "  line-height: 1em;\n",
       "  font-family: monospace;\n",
       "  background-color: var(--sklearn-color-background);\n",
       "  border-radius: 1em;\n",
       "  height: 1em;\n",
       "  width: 1em;\n",
       "  text-decoration: none !important;\n",
       "  margin-left: 1ex;\n",
       "  /* unfitted */\n",
       "  border: var(--sklearn-color-unfitted-level-1) 1pt solid;\n",
       "  color: var(--sklearn-color-unfitted-level-1);\n",
       "}\n",
       "\n",
       ".sk-estimator-doc-link.fitted,\n",
       "a:link.sk-estimator-doc-link.fitted,\n",
       "a:visited.sk-estimator-doc-link.fitted {\n",
       "  /* fitted */\n",
       "  border: var(--sklearn-color-fitted-level-1) 1pt solid;\n",
       "  color: var(--sklearn-color-fitted-level-1);\n",
       "}\n",
       "\n",
       "/* On hover */\n",
       "div.sk-estimator:hover .sk-estimator-doc-link:hover,\n",
       ".sk-estimator-doc-link:hover,\n",
       "div.sk-label-container:hover .sk-estimator-doc-link:hover,\n",
       ".sk-estimator-doc-link:hover {\n",
       "  /* unfitted */\n",
       "  background-color: var(--sklearn-color-unfitted-level-3);\n",
       "  color: var(--sklearn-color-background);\n",
       "  text-decoration: none;\n",
       "}\n",
       "\n",
       "div.sk-estimator.fitted:hover .sk-estimator-doc-link.fitted:hover,\n",
       ".sk-estimator-doc-link.fitted:hover,\n",
       "div.sk-label-container:hover .sk-estimator-doc-link.fitted:hover,\n",
       ".sk-estimator-doc-link.fitted:hover {\n",
       "  /* fitted */\n",
       "  background-color: var(--sklearn-color-fitted-level-3);\n",
       "  color: var(--sklearn-color-background);\n",
       "  text-decoration: none;\n",
       "}\n",
       "\n",
       "/* Span, style for the box shown on hovering the info icon */\n",
       ".sk-estimator-doc-link span {\n",
       "  display: none;\n",
       "  z-index: 9999;\n",
       "  position: relative;\n",
       "  font-weight: normal;\n",
       "  right: .2ex;\n",
       "  padding: .5ex;\n",
       "  margin: .5ex;\n",
       "  width: min-content;\n",
       "  min-width: 20ex;\n",
       "  max-width: 50ex;\n",
       "  color: var(--sklearn-color-text);\n",
       "  box-shadow: 2pt 2pt 4pt #999;\n",
       "  /* unfitted */\n",
       "  background: var(--sklearn-color-unfitted-level-0);\n",
       "  border: .5pt solid var(--sklearn-color-unfitted-level-3);\n",
       "}\n",
       "\n",
       ".sk-estimator-doc-link.fitted span {\n",
       "  /* fitted */\n",
       "  background: var(--sklearn-color-fitted-level-0);\n",
       "  border: var(--sklearn-color-fitted-level-3);\n",
       "}\n",
       "\n",
       ".sk-estimator-doc-link:hover span {\n",
       "  display: block;\n",
       "}\n",
       "\n",
       "/* \"?\"-specific style due to the `<a>` HTML tag */\n",
       "\n",
       "#sk-container-id-1 a.estimator_doc_link {\n",
       "  float: right;\n",
       "  font-size: 1rem;\n",
       "  line-height: 1em;\n",
       "  font-family: monospace;\n",
       "  background-color: var(--sklearn-color-background);\n",
       "  border-radius: 1rem;\n",
       "  height: 1rem;\n",
       "  width: 1rem;\n",
       "  text-decoration: none;\n",
       "  /* unfitted */\n",
       "  color: var(--sklearn-color-unfitted-level-1);\n",
       "  border: var(--sklearn-color-unfitted-level-1) 1pt solid;\n",
       "}\n",
       "\n",
       "#sk-container-id-1 a.estimator_doc_link.fitted {\n",
       "  /* fitted */\n",
       "  border: var(--sklearn-color-fitted-level-1) 1pt solid;\n",
       "  color: var(--sklearn-color-fitted-level-1);\n",
       "}\n",
       "\n",
       "/* On hover */\n",
       "#sk-container-id-1 a.estimator_doc_link:hover {\n",
       "  /* unfitted */\n",
       "  background-color: var(--sklearn-color-unfitted-level-3);\n",
       "  color: var(--sklearn-color-background);\n",
       "  text-decoration: none;\n",
       "}\n",
       "\n",
       "#sk-container-id-1 a.estimator_doc_link.fitted:hover {\n",
       "  /* fitted */\n",
       "  background-color: var(--sklearn-color-fitted-level-3);\n",
       "}\n",
       "</style><div id=\"sk-container-id-1\" class=\"sk-top-container\"><div class=\"sk-text-repr-fallback\"><pre>TfidfVectorizer(max_df=0.95, min_df=2, stop_words=&#x27;english&#x27;)</pre><b>In a Jupyter environment, please rerun this cell to show the HTML representation or trust the notebook. <br />On GitHub, the HTML representation is unable to render, please try loading this page with nbviewer.org.</b></div><div class=\"sk-container\" hidden><div class=\"sk-item\"><div class=\"sk-estimator  sk-toggleable\"><input class=\"sk-toggleable__control sk-hidden--visually\" id=\"sk-estimator-id-1\" type=\"checkbox\" checked><label for=\"sk-estimator-id-1\" class=\"sk-toggleable__label  sk-toggleable__label-arrow \">&nbsp;&nbsp;TfidfVectorizer<a class=\"sk-estimator-doc-link \" rel=\"noreferrer\" target=\"_blank\" href=\"https://scikit-learn.org/1.5/modules/generated/sklearn.feature_extraction.text.TfidfVectorizer.html\">?<span>Documentation for TfidfVectorizer</span></a><span class=\"sk-estimator-doc-link \">i<span>Not fitted</span></span></label><div class=\"sk-toggleable__content \"><pre>TfidfVectorizer(max_df=0.95, min_df=2, stop_words=&#x27;english&#x27;)</pre></div> </div></div></div></div>"
      ],
      "text/plain": [
       "TfidfVectorizer(max_df=0.95, min_df=2, stop_words='english')"
      ]
     },
     "execution_count": 56,
     "metadata": {},
     "output_type": "execute_result"
    }
   ],
   "source": [
    "tfidf = TfidfVectorizer(min_df=2, max_df=0.95, stop_words='english')\n",
    "tfidf.fit(df_clean['complaint_POS_removed'])\n",
    "tfidf_vectorised = tfidf.transform(df_clean['complaint_POS_removed'])"
   ]
  },
  {
   "cell_type": "markdown",
   "id": "e60bded1",
   "metadata": {
    "id": "yYzD85nTJrGA",
    "papermill": {
     "duration": 0.159858,
     "end_time": "2022-02-23T03:41:33.045730",
     "exception": false,
     "start_time": "2022-02-23T03:41:32.885872",
     "status": "completed"
    },
    "tags": []
   },
   "source": [
    "#### Create a document term matrix using fit_transform\n",
    "\n",
    "The contents of a document term matrix are tuples of (complaint_id,token_id) tf-idf score:\n",
    "The tuples that are not there have a tf-idf score of 0"
   ]
  },
  {
   "cell_type": "markdown",
   "id": "b73d1e48",
   "metadata": {
    "id": "0wYR1xUTJrGD",
    "papermill": {
     "duration": 0.155089,
     "end_time": "2022-02-23T03:41:36.227784",
     "exception": false,
     "start_time": "2022-02-23T03:41:36.072695",
     "status": "completed"
    },
    "tags": []
   },
   "source": [
    "## Manual Topic Modeling\n",
    "\n",
    "By doing a trial-and-error approach to determine the optimal number of topics for your NMF model.\n",
    "\n",
    "The key parameter to specify is the number of components, which represents the desired number of topics. This step is critical in the topic modeling process and will significantly influence the quality of your final topics."
   ]
  },
  {
   "cell_type": "code",
   "execution_count": 102,
   "id": "2fc92ba4",
   "metadata": {},
   "outputs": [
    {
     "data": {
      "text/plain": [
       "9829"
      ]
     },
     "execution_count": 102,
     "metadata": {},
     "output_type": "execute_result"
    }
   ],
   "source": [
    "len(tfidf.get_feature_names_out())"
   ]
  },
  {
   "cell_type": "code",
   "execution_count": 59,
   "id": "30d3802a",
   "metadata": {
    "ExecuteTime": {
     "end_time": "2024-09-22T08:10:11.873166Z",
     "start_time": "2024-09-22T08:10:11.820130Z"
    },
    "execution": {
     "iopub.execute_input": "2022-02-23T03:41:36.537701Z",
     "iopub.status.busy": "2022-02-23T03:41:36.537045Z",
     "iopub.status.idle": "2022-02-23T03:41:36.540795Z",
     "shell.execute_reply": "2022-02-23T03:41:36.541372Z"
    },
    "id": "sgd2A6bhJrGD",
    "papermill": {
     "duration": 0.162601,
     "end_time": "2022-02-23T03:41:36.541571",
     "exception": false,
     "start_time": "2022-02-23T03:41:36.378970",
     "status": "completed"
    },
    "tags": []
   },
   "outputs": [],
   "source": [
    "from sklearn.decomposition import NMF\n",
    "num_topics = 5\n",
    "nmf_model = NMF(n_components=num_topics, random_state=40)\n",
    "nmf_model.fit(tfidf_vectorised)"
   ]
  },
  {
   "cell_type": "code",
   "execution_count": 96,
   "id": "8d848b26",
   "metadata": {
    "ExecuteTime": {
     "end_time": "2024-09-22T08:10:13.018180Z",
     "start_time": "2024-09-22T08:10:13.006150Z"
    },
    "execution": {
     "iopub.execute_input": "2022-02-23T03:41:38.306968Z",
     "iopub.status.busy": "2022-02-23T03:41:38.306185Z",
     "iopub.status.idle": "2022-02-23T03:41:38.308310Z",
     "shell.execute_reply": "2022-02-23T03:41:38.307722Z"
    },
    "papermill": {
     "duration": 0.165508,
     "end_time": "2022-02-23T03:41:38.308472",
     "exception": false,
     "start_time": "2022-02-23T03:41:38.142964",
     "status": "completed"
    },
    "tags": []
   },
   "outputs": [
    {
     "data": {
      "text/plain": [
       "array([[0.00000000e+00, 0.00000000e+00, 0.00000000e+00, ...,\n",
       "        0.00000000e+00, 6.97170218e-04, 9.26901744e-05],\n",
       "       [0.00000000e+00, 6.14881949e-03, 0.00000000e+00, ...,\n",
       "        5.46906777e-04, 0.00000000e+00, 1.00299600e-04],\n",
       "       [9.24968952e-04, 0.00000000e+00, 5.02800944e-04, ...,\n",
       "        9.36494997e-04, 2.67251334e-03, 0.00000000e+00],\n",
       "       [8.44994639e-06, 9.49452018e-03, 0.00000000e+00, ...,\n",
       "        3.47062483e-04, 8.29246683e-04, 5.82963487e-04],\n",
       "       [0.00000000e+00, 9.34915005e-04, 0.00000000e+00, ...,\n",
       "        0.00000000e+00, 0.00000000e+00, 0.00000000e+00]])"
      ]
     },
     "execution_count": 96,
     "metadata": {},
     "output_type": "execute_result"
    }
   ],
   "source": [
    "H = nmf_model.components_\n",
    "H"
   ]
  },
  {
   "cell_type": "code",
   "execution_count": 103,
   "id": "2a20c714",
   "metadata": {},
   "outputs": [
    {
     "data": {
      "text/plain": [
       "(5, 9829)"
      ]
     },
     "execution_count": 103,
     "metadata": {},
     "output_type": "execute_result"
    }
   ],
   "source": [
    "H.shape"
   ]
  },
  {
   "cell_type": "markdown",
   "id": "bbe15e67",
   "metadata": {
    "ExecuteTime": {
     "end_time": "2024-09-18T18:09:01.391615Z",
     "start_time": "2024-09-18T18:09:01.383408Z"
    }
   },
   "source": [
    "# Print the Top15 words for each of the topics"
   ]
  },
  {
   "cell_type": "code",
   "execution_count": 63,
   "id": "1b9a39f1",
   "metadata": {
    "ExecuteTime": {
     "end_time": "2024-09-22T08:10:13.040213Z",
     "start_time": "2024-09-22T08:10:13.018180Z"
    }
   },
   "outputs": [
    {
     "data": {
      "text/plain": [
       "array(['aaarating', 'aarp', 'ab', ..., 'zombie', 'zone', 'zoom'],\n",
       "      dtype=object)"
      ]
     },
     "execution_count": 63,
     "metadata": {},
     "output_type": "execute_result"
    }
   ],
   "source": [
    "words = np.array(tfidf.get_feature_names_out())\n",
    "words"
   ]
  },
  {
   "cell_type": "code",
   "execution_count": 64,
   "id": "6b8b1b3d",
   "metadata": {},
   "outputs": [
    {
     "data": {
      "text/plain": [
       "9829"
      ]
     },
     "execution_count": 64,
     "metadata": {},
     "output_type": "execute_result"
    }
   ],
   "source": [
    "len(words)"
   ]
  },
  {
   "cell_type": "code",
   "execution_count": 65,
   "id": "c254421f",
   "metadata": {
    "ExecuteTime": {
     "end_time": "2024-09-22T08:10:13.050583Z",
     "start_time": "2024-09-22T08:10:13.040213Z"
    }
   },
   "outputs": [],
   "source": [
    "# Get the top 15 words for each topic using advanced indexing\n",
    "top_n = 15\n",
    "top_words_indices_nmf = np.argsort(H, axis=1)[:, ::-1][:, :top_n]\n",
    "topic_words_nmf = pd.DataFrame(\n",
    "    data=words[top_words_indices_nmf],\n",
    "    index=[f'Topic {i + 1}' for i in range(num_topics)],\n",
    "    columns=[f'Word {i + 1}' for i in range(top_n)]\n",
    ")\n",
    "topic_words_nmf"
   ]
  },
  {
   "cell_type": "markdown",
   "id": "6df6b942",
   "metadata": {
    "papermill": {
     "duration": 0.158234,
     "end_time": "2022-02-23T03:41:38.978022",
     "exception": false,
     "start_time": "2022-02-23T03:41:38.819788",
     "status": "completed"
    },
    "tags": []
   },
   "source": [
    "**Observation**\n",
    "\n",
    "Based on the identified topics, we can assign labels according to the associated products and services:\n",
    "\n",
    "- Topic 1: Bank Account Services\n",
    "- Topic 2: Credit Cards / Prepaid Cards\n",
    "- Topic 3: Mortgages / Loans\n",
    "- Topic 4: Theft / Dispute Reporting\n",
    "- Topic 5: Other Issues"
   ]
  },
  {
   "cell_type": "markdown",
   "id": "0ac04afc",
   "metadata": {},
   "source": [
    "LDA"
   ]
  },
  {
   "cell_type": "code",
   "execution_count": 93,
   "id": "a259b83e",
   "metadata": {},
   "outputs": [],
   "source": [
    "from sklearn.decomposition import LatentDirichletAllocation\n",
    "num_topics = 5\n",
    "lda_model = LatentDirichletAllocation(n_components=num_topics, random_state=40)\n",
    "lda_model.fit(tfidf_vectorised)"
   ]
  },
  {
   "cell_type": "code",
   "execution_count": 104,
   "id": "b98ce6f7",
   "metadata": {},
   "outputs": [
    {
     "data": {
      "text/plain": [
       "(5, 9829)"
      ]
     },
     "execution_count": 104,
     "metadata": {},
     "output_type": "execute_result"
    }
   ],
   "source": [
    "L = nmf_model.components_\n",
    "L.shape"
   ]
  },
  {
   "cell_type": "code",
   "execution_count": 84,
   "id": "3c8bea2c",
   "metadata": {},
   "outputs": [
    {
     "data": {
      "text/html": [
       "<div>\n",
       "<style scoped>\n",
       "    .dataframe tbody tr th:only-of-type {\n",
       "        vertical-align: middle;\n",
       "    }\n",
       "\n",
       "    .dataframe tbody tr th {\n",
       "        vertical-align: top;\n",
       "    }\n",
       "\n",
       "    .dataframe thead th {\n",
       "        text-align: right;\n",
       "    }\n",
       "</style>\n",
       "<table border=\"1\" class=\"dataframe\">\n",
       "  <thead>\n",
       "    <tr style=\"text-align: right;\">\n",
       "      <th></th>\n",
       "      <th>Word 1</th>\n",
       "      <th>Word 2</th>\n",
       "      <th>Word 3</th>\n",
       "      <th>Word 4</th>\n",
       "      <th>Word 5</th>\n",
       "      <th>Word 6</th>\n",
       "      <th>Word 7</th>\n",
       "      <th>Word 8</th>\n",
       "      <th>Word 9</th>\n",
       "      <th>Word 10</th>\n",
       "      <th>Word 11</th>\n",
       "      <th>Word 12</th>\n",
       "      <th>Word 13</th>\n",
       "      <th>Word 14</th>\n",
       "      <th>Word 15</th>\n",
       "    </tr>\n",
       "  </thead>\n",
       "  <tbody>\n",
       "    <tr>\n",
       "      <th>Topic 1</th>\n",
       "      <td>account</td>\n",
       "      <td>bank</td>\n",
       "      <td>check</td>\n",
       "      <td>chase</td>\n",
       "      <td>money</td>\n",
       "      <td>deposit</td>\n",
       "      <td>fund</td>\n",
       "      <td>close</td>\n",
       "      <td>branch</td>\n",
       "      <td>day</td>\n",
       "      <td>open</td>\n",
       "      <td>transfer</td>\n",
       "      <td>tell</td>\n",
       "      <td>number</td>\n",
       "      <td>business</td>\n",
       "    </tr>\n",
       "    <tr>\n",
       "      <th>Topic 2</th>\n",
       "      <td>credit</td>\n",
       "      <td>report</td>\n",
       "      <td>card</td>\n",
       "      <td>inquiry</td>\n",
       "      <td>chase</td>\n",
       "      <td>remove</td>\n",
       "      <td>account</td>\n",
       "      <td>hard</td>\n",
       "      <td>score</td>\n",
       "      <td>company</td>\n",
       "      <td>debt</td>\n",
       "      <td>open</td>\n",
       "      <td>information</td>\n",
       "      <td>limit</td>\n",
       "      <td>application</td>\n",
       "    </tr>\n",
       "    <tr>\n",
       "      <th>Topic 3</th>\n",
       "      <td>loan</td>\n",
       "      <td>mortgage</td>\n",
       "      <td>chase</td>\n",
       "      <td>home</td>\n",
       "      <td>modification</td>\n",
       "      <td>property</td>\n",
       "      <td>year</td>\n",
       "      <td>letter</td>\n",
       "      <td>rate</td>\n",
       "      <td>time</td>\n",
       "      <td>document</td>\n",
       "      <td>foreclosure</td>\n",
       "      <td>house</td>\n",
       "      <td>sale</td>\n",
       "      <td>bank</td>\n",
       "    </tr>\n",
       "    <tr>\n",
       "      <th>Topic 4</th>\n",
       "      <td>charge</td>\n",
       "      <td>card</td>\n",
       "      <td>chase</td>\n",
       "      <td>dispute</td>\n",
       "      <td>transaction</td>\n",
       "      <td>fee</td>\n",
       "      <td>purchase</td>\n",
       "      <td>merchant</td>\n",
       "      <td>fraud</td>\n",
       "      <td>claim</td>\n",
       "      <td>refund</td>\n",
       "      <td>service</td>\n",
       "      <td>fraudulent</td>\n",
       "      <td>time</td>\n",
       "      <td>credit</td>\n",
       "    </tr>\n",
       "    <tr>\n",
       "      <th>Topic 5</th>\n",
       "      <td>payment</td>\n",
       "      <td>late</td>\n",
       "      <td>balance</td>\n",
       "      <td>pay</td>\n",
       "      <td>fee</td>\n",
       "      <td>month</td>\n",
       "      <td>statement</td>\n",
       "      <td>day</td>\n",
       "      <td>time</td>\n",
       "      <td>auto</td>\n",
       "      <td>monthly</td>\n",
       "      <td>chase</td>\n",
       "      <td>date</td>\n",
       "      <td>credit</td>\n",
       "      <td>minimum</td>\n",
       "    </tr>\n",
       "  </tbody>\n",
       "</table>\n",
       "</div>"
      ],
      "text/plain": [
       "          Word 1    Word 2   Word 3   Word 4        Word 5    Word 6  \\\n",
       "Topic 1  account      bank    check    chase         money   deposit   \n",
       "Topic 2   credit    report     card  inquiry         chase    remove   \n",
       "Topic 3     loan  mortgage    chase     home  modification  property   \n",
       "Topic 4   charge      card    chase  dispute   transaction       fee   \n",
       "Topic 5  payment      late  balance      pay           fee     month   \n",
       "\n",
       "            Word 7    Word 8  Word 9  Word 10   Word 11      Word 12  \\\n",
       "Topic 1       fund     close  branch      day      open     transfer   \n",
       "Topic 2    account      hard   score  company      debt         open   \n",
       "Topic 3       year    letter    rate     time  document  foreclosure   \n",
       "Topic 4   purchase  merchant   fraud    claim    refund      service   \n",
       "Topic 5  statement       day    time     auto   monthly        chase   \n",
       "\n",
       "             Word 13 Word 14      Word 15  \n",
       "Topic 1         tell  number     business  \n",
       "Topic 2  information   limit  application  \n",
       "Topic 3        house    sale         bank  \n",
       "Topic 4   fraudulent    time       credit  \n",
       "Topic 5         date  credit      minimum  "
      ]
     },
     "execution_count": 84,
     "metadata": {},
     "output_type": "execute_result"
    }
   ],
   "source": [
    "# Get the top 15 words for each topic using advanced indexing\n",
    "top_n = 15\n",
    "top_words_indices_lda = np.argsort(L, axis=1)[:, ::-1][:, :top_n]\n",
    "topic_words_lda = pd.DataFrame(\n",
    "    data=words[top_words_indices_lda],\n",
    "    index=[f'Topic {i + 1}' for i in range(num_topics)],\n",
    "    columns=[f'Word {i + 1}' for i in range(top_n)]\n",
    ")\n",
    "topic_words_lda"
   ]
  },
  {
   "cell_type": "markdown",
   "id": "0a3c5b71",
   "metadata": {},
   "source": [
    "# Create the best topic for each complaint in terms of integer value 0,1,2,3 & 4"
   ]
  },
  {
   "cell_type": "code",
   "execution_count": 85,
   "id": "6b03d649",
   "metadata": {
    "ExecuteTime": {
     "end_time": "2024-09-22T08:10:13.375563Z",
     "start_time": "2024-09-22T08:10:13.074488Z"
    },
    "execution": {
     "iopub.execute_input": "2022-02-23T03:41:39.294669Z",
     "iopub.status.busy": "2022-02-23T03:41:39.293977Z",
     "iopub.status.idle": "2022-02-23T03:41:39.331875Z",
     "shell.execute_reply": "2022-02-23T03:41:39.332436Z"
    },
    "id": "0OIT7LmFJrGF",
    "papermill": {
     "duration": 0.194994,
     "end_time": "2022-02-23T03:41:39.332619",
     "exception": false,
     "start_time": "2022-02-23T03:41:39.137625",
     "status": "completed"
    },
    "tags": []
   },
   "outputs": [
    {
     "data": {
      "text/plain": [
       "array([[0.04009944, 0.58057072, 0.03904545, 0.03996454, 0.30031984],\n",
       "       [0.05318172, 0.78594648, 0.05289159, 0.0538454 , 0.05413481],\n",
       "       [0.04774734, 0.04838671, 0.04771991, 0.04822261, 0.80792343],\n",
       "       ...,\n",
       "       [0.02152637, 0.91163535, 0.0217036 , 0.02278695, 0.02234772],\n",
       "       [0.02783164, 0.89082243, 0.02692738, 0.02731242, 0.02710613],\n",
       "       [0.03611158, 0.85604958, 0.03547385, 0.03610928, 0.0362557 ]])"
      ]
     },
     "execution_count": 85,
     "metadata": {},
     "output_type": "execute_result"
    }
   ],
   "source": [
    "topic_results_nmf = nmf_model.transform(tfidf_vectorised)\n",
    "topic_results_lda = lda_model.transform(tfidf_vectorised)\n",
    "df_clean['Topic_NMF'] = topic_results_nmf.argmax(axis=1)\n",
    "df_clean['Topic_LDA'] = topic_results_lda.argmax(axis=1)"
   ]
  },
  {
   "cell_type": "code",
   "execution_count": 91,
   "id": "af691457",
   "metadata": {},
   "outputs": [
    {
     "data": {
      "text/plain": [
       "array([1, 1, 4, ..., 1, 1, 1], dtype=int64)"
      ]
     },
     "execution_count": 91,
     "metadata": {},
     "output_type": "execute_result"
    }
   ],
   "source": [
    "topic_results_lda.argmax(axis=1)"
   ]
  },
  {
   "cell_type": "markdown",
   "id": "ba4a2d88",
   "metadata": {},
   "source": [
    "### Create the dictionary of Topic names and Topics"
   ]
  },
  {
   "cell_type": "code",
   "execution_count": 57,
   "id": "cce45b08",
   "metadata": {
    "ExecuteTime": {
     "end_time": "2024-09-22T08:10:13.442553Z",
     "start_time": "2024-09-22T08:10:13.425804Z"
    },
    "execution": {
     "iopub.execute_input": "2022-02-23T03:41:41.007588Z",
     "iopub.status.busy": "2022-02-23T03:41:41.004137Z",
     "iopub.status.idle": "2022-02-23T03:41:41.010890Z",
     "shell.execute_reply": "2022-02-23T03:41:41.011548Z"
    },
    "id": "TWpwDG4RJrGG",
    "papermill": {
     "duration": 0.175296,
     "end_time": "2022-02-23T03:41:41.011732",
     "exception": false,
     "start_time": "2022-02-23T03:41:40.836436",
     "status": "completed"
    },
    "tags": []
   },
   "outputs": [],
   "source": [
    "topic_names = {\n",
    "    0: \"Bank account services\",\n",
    "    1: \"Credit Card/Prepaid Card\",\n",
    "    2: \"Mortgages/Loans\",\n",
    "    3: \"Theft/Dispute reporting\",\n",
    "    4: \"Others\"\n",
    "}\n",
    "#Replace Topics with Topic Names\n",
    "# df_clean['topic_names'] = df_clean['Topic_NMF'].map(topic_names)"
   ]
  },
  {
   "cell_type": "code",
   "execution_count": 59,
   "id": "13f77f56",
   "metadata": {
    "ExecuteTime": {
     "end_time": "2024-09-22T08:10:13.475412Z",
     "start_time": "2024-09-22T08:10:13.466347Z"
    }
   },
   "outputs": [
    {
     "data": {
      "text/plain": [
       "3    5386\n",
       "0    5072\n",
       "1    4413\n",
       "2    3892\n",
       "4    2298\n",
       "Name: Topic, dtype: int64"
      ]
     },
     "execution_count": 59,
     "metadata": {},
     "output_type": "execute_result"
    }
   ],
   "source": [
    "df_clean['Topic_NMF'].value_counts()"
   ]
  },
  {
   "cell_type": "code",
   "execution_count": null,
   "id": "b08147cc",
   "metadata": {},
   "outputs": [],
   "source": [
    "df_clean['Topic_LDA'].value_counts()"
   ]
  },
  {
   "cell_type": "code",
   "execution_count": 61,
   "id": "3164250d",
   "metadata": {
    "ExecuteTime": {
     "end_time": "2024-09-22T08:10:13.499515Z",
     "start_time": "2024-09-22T08:10:13.493065Z"
    },
    "execution": {
     "iopub.execute_input": "2022-02-23T03:41:41.681578Z",
     "iopub.status.busy": "2022-02-23T03:41:41.680748Z",
     "iopub.status.idle": "2022-02-23T03:41:41.696767Z",
     "shell.execute_reply": "2022-02-23T03:41:41.697597Z"
    },
    "papermill": {
     "duration": 0.183867,
     "end_time": "2022-02-23T03:41:41.697881",
     "exception": false,
     "start_time": "2022-02-23T03:41:41.514014",
     "status": "completed"
    },
    "tags": []
   },
   "outputs": [
    {
     "data": {
      "text/plain": [
       "(21061, 6)"
      ]
     },
     "execution_count": 61,
     "metadata": {},
     "output_type": "execute_result"
    }
   ],
   "source": [
    "df_clean.shape"
   ]
  },
  {
   "cell_type": "markdown",
   "id": "01e32d97",
   "metadata": {
    "id": "7Mu0QBOcJrGH",
    "papermill": {
     "duration": 0.170198,
     "end_time": "2022-02-23T03:41:42.057486",
     "exception": false,
     "start_time": "2022-02-23T03:41:41.887288",
     "status": "completed"
    },
    "tags": []
   },
   "source": [
    "## Supervised model to predict complaints to the relevant Topics.\n",
    "\n",
    "Building the model to create the topics for each complaints."
   ]
  },
  {
   "cell_type": "code",
   "execution_count": 62,
   "id": "760f171b",
   "metadata": {
    "ExecuteTime": {
     "end_time": "2024-09-22T08:10:13.516187Z",
     "start_time": "2024-09-22T08:10:13.499515Z"
    },
    "execution": {
     "iopub.execute_input": "2022-02-23T03:41:42.730669Z",
     "iopub.status.busy": "2022-02-23T03:41:42.729972Z",
     "iopub.status.idle": "2022-02-23T03:41:42.735642Z",
     "shell.execute_reply": "2022-02-23T03:41:42.735084Z"
    },
    "id": "BWIgJUkQJrGH",
    "papermill": {
     "duration": 0.174615,
     "end_time": "2022-02-23T03:41:42.735783",
     "exception": false,
     "start_time": "2022-02-23T03:41:42.561168",
     "status": "completed"
    },
    "tags": []
   },
   "outputs": [
    {
     "data": {
      "text/html": [
       "<div>\n",
       "<style scoped>\n",
       "    .dataframe tbody tr th:only-of-type {\n",
       "        vertical-align: middle;\n",
       "    }\n",
       "\n",
       "    .dataframe tbody tr th {\n",
       "        vertical-align: top;\n",
       "    }\n",
       "\n",
       "    .dataframe thead th {\n",
       "        text-align: right;\n",
       "    }\n",
       "</style>\n",
       "<table border=\"1\" class=\"dataframe\">\n",
       "  <thead>\n",
       "    <tr style=\"text-align: right;\">\n",
       "      <th></th>\n",
       "      <th>complaint_what_happened</th>\n",
       "      <th>complaint_lemmatized</th>\n",
       "      <th>complaint_POS_removed</th>\n",
       "      <th>complaint_final</th>\n",
       "      <th>Topic</th>\n",
       "      <th>topic_names</th>\n",
       "    </tr>\n",
       "  </thead>\n",
       "  <tbody>\n",
       "    <tr>\n",
       "      <th>0</th>\n",
       "      <td>good morning my name is xxxx xxxx and i apprec...</td>\n",
       "      <td>good morning my name be xxxx xxxx and I apprec...</td>\n",
       "      <td>good morning name be help put stop chase bank ...</td>\n",
       "      <td>good morning name be help put stop chase bank ...</td>\n",
       "      <td>2</td>\n",
       "      <td>Mortgages/Loans</td>\n",
       "    </tr>\n",
       "    <tr>\n",
       "      <th>1</th>\n",
       "      <td>i upgraded my xxxx xxxx card in and was told b...</td>\n",
       "      <td>I upgrade my xxxx xxxx card in and be tell by ...</td>\n",
       "      <td>xxxx xxxx card be agent upgrade anniversary da...</td>\n",
       "      <td>card be agent upgrade anniversary date change ...</td>\n",
       "      <td>3</td>\n",
       "      <td>Theft/Dispute reporting</td>\n",
       "    </tr>\n",
       "    <tr>\n",
       "      <th>2</th>\n",
       "      <td>chase card was reported on however fraudulent ...</td>\n",
       "      <td>chase card be report on however fraudulent app...</td>\n",
       "      <td>chase card be report fraudulent application be...</td>\n",
       "      <td>chase card be report fraudulent application be...</td>\n",
       "      <td>1</td>\n",
       "      <td>Credit Card/Prepaid Card</td>\n",
       "    </tr>\n",
       "    <tr>\n",
       "      <th>3</th>\n",
       "      <td>on while trying to book a xxxx xxxx ticket i c...</td>\n",
       "      <td>on while try to book a xxxx xxxx ticket I come...</td>\n",
       "      <td>try book xxxx xxxx ticket offer be apply ticke...</td>\n",
       "      <td>try book ticket offer be apply ticket reward c...</td>\n",
       "      <td>1</td>\n",
       "      <td>Credit Card/Prepaid Card</td>\n",
       "    </tr>\n",
       "    <tr>\n",
       "      <th>4</th>\n",
       "      <td>my grand son give me check for i deposit it in...</td>\n",
       "      <td>my grand son give I check for I deposit it int...</td>\n",
       "      <td>grand son chase account fund clear chase bank ...</td>\n",
       "      <td>grand son chase account fund clear chase bank ...</td>\n",
       "      <td>0</td>\n",
       "      <td>Bank account services</td>\n",
       "    </tr>\n",
       "  </tbody>\n",
       "</table>\n",
       "</div>"
      ],
      "text/plain": [
       "                             complaint_what_happened  \\\n",
       "0  good morning my name is xxxx xxxx and i apprec...   \n",
       "1  i upgraded my xxxx xxxx card in and was told b...   \n",
       "2  chase card was reported on however fraudulent ...   \n",
       "3  on while trying to book a xxxx xxxx ticket i c...   \n",
       "4  my grand son give me check for i deposit it in...   \n",
       "\n",
       "                                complaint_lemmatized  \\\n",
       "0  good morning my name be xxxx xxxx and I apprec...   \n",
       "1  I upgrade my xxxx xxxx card in and be tell by ...   \n",
       "2  chase card be report on however fraudulent app...   \n",
       "3  on while try to book a xxxx xxxx ticket I come...   \n",
       "4  my grand son give I check for I deposit it int...   \n",
       "\n",
       "                               complaint_POS_removed  \\\n",
       "0  good morning name be help put stop chase bank ...   \n",
       "1  xxxx xxxx card be agent upgrade anniversary da...   \n",
       "2  chase card be report fraudulent application be...   \n",
       "3  try book xxxx xxxx ticket offer be apply ticke...   \n",
       "4  grand son chase account fund clear chase bank ...   \n",
       "\n",
       "                                     complaint_final  Topic  \\\n",
       "0  good morning name be help put stop chase bank ...      2   \n",
       "1  card be agent upgrade anniversary date change ...      3   \n",
       "2  chase card be report fraudulent application be...      1   \n",
       "3  try book ticket offer be apply ticket reward c...      1   \n",
       "4  grand son chase account fund clear chase bank ...      0   \n",
       "\n",
       "                topic_names  \n",
       "0           Mortgages/Loans  \n",
       "1   Theft/Dispute reporting  \n",
       "2  Credit Card/Prepaid Card  \n",
       "3  Credit Card/Prepaid Card  \n",
       "4     Bank account services  "
      ]
     },
     "execution_count": 62,
     "metadata": {},
     "output_type": "execute_result"
    }
   ],
   "source": [
    "df_clean.head()"
   ]
  },
  {
   "cell_type": "markdown",
   "id": "35694fff",
   "metadata": {},
   "source": [
    "# Training Data"
   ]
  },
  {
   "cell_type": "code",
   "execution_count": 63,
   "id": "57fe907d",
   "metadata": {
    "ExecuteTime": {
     "end_time": "2024-09-22T08:10:13.549318Z",
     "start_time": "2024-09-22T08:10:13.516187Z"
    },
    "execution": {
     "iopub.execute_input": "2022-02-23T03:41:43.068174Z",
     "iopub.status.busy": "2022-02-23T03:41:43.067454Z",
     "iopub.status.idle": "2022-02-23T03:41:43.074240Z",
     "shell.execute_reply": "2022-02-23T03:41:43.073477Z"
    },
    "id": "Xx-FrbkWJrGH",
    "papermill": {
     "duration": 0.174555,
     "end_time": "2022-02-23T03:41:43.074402",
     "exception": false,
     "start_time": "2022-02-23T03:41:42.899847",
     "status": "completed"
    },
    "tags": []
   },
   "outputs": [
    {
     "data": {
      "text/html": [
       "<div>\n",
       "<style scoped>\n",
       "    .dataframe tbody tr th:only-of-type {\n",
       "        vertical-align: middle;\n",
       "    }\n",
       "\n",
       "    .dataframe tbody tr th {\n",
       "        vertical-align: top;\n",
       "    }\n",
       "\n",
       "    .dataframe thead th {\n",
       "        text-align: right;\n",
       "    }\n",
       "</style>\n",
       "<table border=\"1\" class=\"dataframe\">\n",
       "  <thead>\n",
       "    <tr style=\"text-align: right;\">\n",
       "      <th></th>\n",
       "      <th>complaint_final</th>\n",
       "      <th>Topic</th>\n",
       "    </tr>\n",
       "  </thead>\n",
       "  <tbody>\n",
       "    <tr>\n",
       "      <th>0</th>\n",
       "      <td>good morning name be help put stop chase bank ...</td>\n",
       "      <td>2</td>\n",
       "    </tr>\n",
       "    <tr>\n",
       "      <th>1</th>\n",
       "      <td>card be agent upgrade anniversary date change ...</td>\n",
       "      <td>3</td>\n",
       "    </tr>\n",
       "    <tr>\n",
       "      <th>2</th>\n",
       "      <td>chase card be report fraudulent application be...</td>\n",
       "      <td>1</td>\n",
       "    </tr>\n",
       "    <tr>\n",
       "      <th>3</th>\n",
       "      <td>try book ticket offer be apply ticket reward c...</td>\n",
       "      <td>1</td>\n",
       "    </tr>\n",
       "    <tr>\n",
       "      <th>4</th>\n",
       "      <td>grand son chase account fund clear chase bank ...</td>\n",
       "      <td>0</td>\n",
       "    </tr>\n",
       "    <tr>\n",
       "      <th>...</th>\n",
       "      <td>...</td>\n",
       "      <td>...</td>\n",
       "    </tr>\n",
       "    <tr>\n",
       "      <th>21056</th>\n",
       "      <td>be chase card customer decade be multiple soli...</td>\n",
       "      <td>1</td>\n",
       "    </tr>\n",
       "    <tr>\n",
       "      <th>21057</th>\n",
       "      <td>wednesday chas visa credit card provider ask m...</td>\n",
       "      <td>3</td>\n",
       "    </tr>\n",
       "    <tr>\n",
       "      <th>21058</th>\n",
       "      <td>be familiar pay do understand great risk provi...</td>\n",
       "      <td>3</td>\n",
       "    </tr>\n",
       "    <tr>\n",
       "      <th>21059</th>\n",
       "      <td>credit yrs credit card chase freedom problem m...</td>\n",
       "      <td>4</td>\n",
       "    </tr>\n",
       "    <tr>\n",
       "      <th>21060</th>\n",
       "      <td>year account jp bank order close unsecured lin...</td>\n",
       "      <td>4</td>\n",
       "    </tr>\n",
       "  </tbody>\n",
       "</table>\n",
       "<p>21061 rows × 2 columns</p>\n",
       "</div>"
      ],
      "text/plain": [
       "                                         complaint_final  Topic\n",
       "0      good morning name be help put stop chase bank ...      2\n",
       "1      card be agent upgrade anniversary date change ...      3\n",
       "2      chase card be report fraudulent application be...      1\n",
       "3      try book ticket offer be apply ticket reward c...      1\n",
       "4      grand son chase account fund clear chase bank ...      0\n",
       "...                                                  ...    ...\n",
       "21056  be chase card customer decade be multiple soli...      1\n",
       "21057  wednesday chas visa credit card provider ask m...      3\n",
       "21058  be familiar pay do understand great risk provi...      3\n",
       "21059  credit yrs credit card chase freedom problem m...      4\n",
       "21060  year account jp bank order close unsecured lin...      4\n",
       "\n",
       "[21061 rows x 2 columns]"
      ]
     },
     "execution_count": 63,
     "metadata": {},
     "output_type": "execute_result"
    }
   ],
   "source": [
    "#Keep the columns\"complaint_what_happened\" & \"Topic\" only in the new dataframe --> training_data\n",
    "training_data = df_clean[['complaint_final', 'Topic']]\n",
    "training_data"
   ]
  },
  {
   "cell_type": "markdown",
   "id": "ac273890",
   "metadata": {},
   "source": [
    "# Train Test Split"
   ]
  },
  {
   "cell_type": "code",
   "execution_count": 64,
   "id": "d3f7e23f",
   "metadata": {
    "ExecuteTime": {
     "end_time": "2024-09-22T08:10:14.534833Z",
     "start_time": "2024-09-22T08:10:13.549318Z"
    }
   },
   "outputs": [],
   "source": [
    "from gensim.models import Word2Vec"
   ]
  },
  {
   "cell_type": "code",
   "execution_count": 65,
   "id": "9d2542b9",
   "metadata": {
    "ExecuteTime": {
     "end_time": "2024-09-22T08:10:14.545141Z",
     "start_time": "2024-09-22T08:10:14.534833Z"
    }
   },
   "outputs": [],
   "source": [
    "# Split the dataset\n",
    "X_train, X_test, y_train, y_test = train_test_split(\n",
    "    training_data['complaint_final'],\n",
    "    training_data['Topic'],\n",
    "    test_size=0.2,\n",
    "    random_state=42)"
   ]
  },
  {
   "cell_type": "markdown",
   "id": "884db0b3",
   "metadata": {},
   "source": [
    "# Count Vectorization"
   ]
  },
  {
   "cell_type": "code",
   "execution_count": 66,
   "id": "cca2a917",
   "metadata": {
    "ExecuteTime": {
     "end_time": "2024-09-22T08:10:15.753472Z",
     "start_time": "2024-09-22T08:10:14.545591Z"
    }
   },
   "outputs": [],
   "source": [
    "count_vectorizer = CountVectorizer(max_features=5000)\n",
    "X_train_count = count_vectorizer.fit_transform(X_train)\n",
    "X_test_count = count_vectorizer.transform(X_test)"
   ]
  },
  {
   "cell_type": "markdown",
   "id": "bc0f0f0b",
   "metadata": {},
   "source": [
    "# TF-IDF Vectorization"
   ]
  },
  {
   "cell_type": "code",
   "execution_count": 67,
   "id": "79a0a19f",
   "metadata": {
    "ExecuteTime": {
     "end_time": "2024-09-22T08:10:16.985093Z",
     "start_time": "2024-09-22T08:10:15.754516Z"
    }
   },
   "outputs": [],
   "source": [
    "tfidf_vectorizer = TfidfVectorizer(max_features=5000)\n",
    "X_train_tfidf = tfidf_vectorizer.fit_transform(X_train)\n",
    "X_test_tfidf = tfidf_vectorizer.transform(X_test)"
   ]
  },
  {
   "cell_type": "markdown",
   "id": "bd7b599a",
   "metadata": {},
   "source": [
    "# Average Word2Vec Vectorization using"
   ]
  },
  {
   "cell_type": "code",
   "execution_count": 68,
   "id": "bda4398a",
   "metadata": {
    "ExecuteTime": {
     "end_time": "2024-09-22T08:10:20.894750Z",
     "start_time": "2024-09-22T08:10:16.995003Z"
    }
   },
   "outputs": [],
   "source": [
    "# Tokenize sentences into words\n",
    "train_sentences = [sentence.split() for sentence in X_train]\n",
    "word2vec_model = Word2Vec(sentences=train_sentences, vector_size=100, window=5, min_count=1, workers=4)"
   ]
  },
  {
   "cell_type": "code",
   "execution_count": 69,
   "id": "94fbbede",
   "metadata": {
    "ExecuteTime": {
     "end_time": "2024-09-22T08:10:20.905687Z",
     "start_time": "2024-09-22T08:10:20.898488Z"
    }
   },
   "outputs": [],
   "source": [
    "# function to average Word2Vec vectors\n",
    "def get_word2vec_vector(sentence):\n",
    "    words = sentence.split()\n",
    "    word_vectors = [word2vec_model.wv[word] for word in words if word in word2vec_model.wv]\n",
    "    return sum(word_vectors) / len(word_vectors) if word_vectors else np.zeros(word2vec_model.vector_size)"
   ]
  },
  {
   "cell_type": "code",
   "execution_count": 70,
   "id": "6c303fbc",
   "metadata": {
    "ExecuteTime": {
     "end_time": "2024-09-22T08:10:24.917405Z",
     "start_time": "2024-09-22T08:10:20.909101Z"
    }
   },
   "outputs": [],
   "source": [
    "# Apply to training and test data\n",
    "X_train_word2vec = np.array([get_word2vec_vector(sentence) for sentence in X_train])\n",
    "X_test_word2vec = np.array([get_word2vec_vector(sentence) for sentence in X_test])"
   ]
  },
  {
   "cell_type": "markdown",
   "id": "f59f627a",
   "metadata": {},
   "source": [
    "# Model Building and Evaluation with default parameters"
   ]
  },
  {
   "cell_type": "markdown",
   "id": "a893774c",
   "metadata": {},
   "source": [
    "### Model Evaluation Function"
   ]
  },
  {
   "cell_type": "code",
   "execution_count": 71,
   "id": "bf813fc5",
   "metadata": {
    "ExecuteTime": {
     "end_time": "2024-09-22T08:10:24.938538Z",
     "start_time": "2024-09-22T08:10:24.917405Z"
    }
   },
   "outputs": [],
   "source": [
    "def print_confusion_matrix_and_report(y_true, y_pred):\n",
    "    metrics = {\n",
    "        'Confusion Matrix': confusion_matrix(y_true, y_pred),\n",
    "        'Classification Report': classification_report(y_true, y_pred)\n",
    "    }\n",
    "    for key, value in metrics.items():\n",
    "        if key == 'Confusion Matrix':\n",
    "            print(f\"\\n{key}:\\n{value}\")\n",
    "        elif key == 'Classification Report':\n",
    "            print(f\"\\n{key}:\\n{value}\")\n",
    "        else:\n",
    "            print(f\"{key}: {value:.4f}\")"
   ]
  },
  {
   "cell_type": "markdown",
   "id": "d6184fdb",
   "metadata": {},
   "source": [
    "# Model fitting"
   ]
  },
  {
   "cell_type": "markdown",
   "id": "27f9bfc7",
   "metadata": {},
   "source": [
    "### function to return accuracy, precision, recall and f1_score"
   ]
  },
  {
   "cell_type": "code",
   "execution_count": 72,
   "id": "8dcdab14",
   "metadata": {
    "ExecuteTime": {
     "end_time": "2024-09-22T08:10:24.954588Z",
     "start_time": "2024-09-22T08:10:24.938538Z"
    }
   },
   "outputs": [],
   "source": [
    "def return_metrics(y_true, y_pred):\n",
    "    return (accuracy_score(y_true, y_pred),\n",
    "            precision_score(y_true,\n",
    "                            y_pred,\n",
    "                            average='weighted',\n",
    "                            zero_division=0),\n",
    "            recall_score(y_true, y_pred, average='weighted', zero_division=0),\n",
    "            f1_score(y_true, y_pred, average='weighted', zero_division=0))"
   ]
  },
  {
   "cell_type": "markdown",
   "id": "d09ed275",
   "metadata": {},
   "source": [
    "### Function to fit the models and return the model metrics in a dataframe"
   ]
  },
  {
   "cell_type": "code",
   "execution_count": 73,
   "id": "de674289",
   "metadata": {
    "ExecuteTime": {
     "end_time": "2024-09-22T08:10:25.127101Z",
     "start_time": "2024-09-22T08:10:24.954588Z"
    }
   },
   "outputs": [],
   "source": [
    "from sklearn.linear_model import LogisticRegression\n",
    "from sklearn.tree import DecisionTreeClassifier\n",
    "from sklearn.ensemble import RandomForestClassifier"
   ]
  },
  {
   "cell_type": "code",
   "execution_count": 74,
   "id": "659ec1cd",
   "metadata": {
    "ExecuteTime": {
     "end_time": "2024-09-22T08:10:25.143291Z",
     "start_time": "2024-09-22T08:10:25.127101Z"
    }
   },
   "outputs": [],
   "source": [
    "def evaluate_models(X_dict, y_train, y_test):\n",
    "    \"\"\"Evaluate models with different vectorization methods.\"\"\"\n",
    "    models = {\n",
    "        'logistic_regression': LogisticRegression(),\n",
    "        'decision_tree': DecisionTreeClassifier(),\n",
    "        'random_forest': RandomForestClassifier()\n",
    "    }\n",
    "\n",
    "    results = []\n",
    "\n",
    "    for vect_type, (X_train, X_test) in X_dict.items():\n",
    "        for model_name, model in models.items():\n",
    "            model.fit(X_train, y_train)\n",
    "\n",
    "            y_train_pred = model.predict(X_train)\n",
    "            y_test_pred = model.predict(X_test)\n",
    "\n",
    "            train_metrics = return_metrics(y_train, y_train_pred)\n",
    "            test_metrics = return_metrics(y_test, y_test_pred)\n",
    "\n",
    "            results.append({\n",
    "                'vect_type': vect_type,\n",
    "                'Model': model_name,\n",
    "                'train_accuracy': train_metrics[0],\n",
    "                'train_precision': train_metrics[1],\n",
    "                'train_recall': train_metrics[2],\n",
    "                'train_f1score': train_metrics[3],\n",
    "                'test_accuracy': test_metrics[0],\n",
    "                'test_precision': test_metrics[1],\n",
    "                'test_recall': test_metrics[2],\n",
    "                'test_f1score': test_metrics[3]\n",
    "            })\n",
    "\n",
    "    return pd.DataFrame(results)"
   ]
  },
  {
   "cell_type": "code",
   "execution_count": 75,
   "id": "dd4a4cb2",
   "metadata": {
    "ExecuteTime": {
     "end_time": "2024-09-22T08:11:55.139490Z",
     "start_time": "2024-09-22T08:10:25.144506Z"
    }
   },
   "outputs": [],
   "source": [
    "X_dict = {\n",
    "    'count_vect': (X_train_count, X_test_count),\n",
    "    'tfidf_vec': (X_train_tfidf, X_test_tfidf),\n",
    "    'word2vec': (X_train_word2vec, X_test_word2vec)\n",
    "}\n",
    "\n",
    "model_metric_df = evaluate_models(X_dict, y_train, y_test)"
   ]
  },
  {
   "cell_type": "code",
   "execution_count": 76,
   "id": "6cb6972d",
   "metadata": {
    "ExecuteTime": {
     "end_time": "2024-09-22T08:11:55.202594Z",
     "start_time": "2024-09-22T08:11:55.139490Z"
    }
   },
   "outputs": [
    {
     "data": {
      "text/html": [
       "<div>\n",
       "<style scoped>\n",
       "    .dataframe tbody tr th:only-of-type {\n",
       "        vertical-align: middle;\n",
       "    }\n",
       "\n",
       "    .dataframe tbody tr th {\n",
       "        vertical-align: top;\n",
       "    }\n",
       "\n",
       "    .dataframe thead th {\n",
       "        text-align: right;\n",
       "    }\n",
       "</style>\n",
       "<table border=\"1\" class=\"dataframe\">\n",
       "  <thead>\n",
       "    <tr style=\"text-align: right;\">\n",
       "      <th></th>\n",
       "      <th>vect_type</th>\n",
       "      <th>Model</th>\n",
       "      <th>train_accuracy</th>\n",
       "      <th>train_precision</th>\n",
       "      <th>train_recall</th>\n",
       "      <th>train_f1score</th>\n",
       "      <th>test_accuracy</th>\n",
       "      <th>test_precision</th>\n",
       "      <th>test_recall</th>\n",
       "      <th>test_f1score</th>\n",
       "    </tr>\n",
       "  </thead>\n",
       "  <tbody>\n",
       "    <tr>\n",
       "      <th>6</th>\n",
       "      <td>word2vec</td>\n",
       "      <td>logistic_regression</td>\n",
       "      <td>0.940408</td>\n",
       "      <td>0.940392</td>\n",
       "      <td>0.940408</td>\n",
       "      <td>0.940391</td>\n",
       "      <td>0.941372</td>\n",
       "      <td>0.941295</td>\n",
       "      <td>0.941372</td>\n",
       "      <td>0.941312</td>\n",
       "    </tr>\n",
       "    <tr>\n",
       "      <th>3</th>\n",
       "      <td>tfidf_vec</td>\n",
       "      <td>logistic_regression</td>\n",
       "      <td>0.991156</td>\n",
       "      <td>0.991173</td>\n",
       "      <td>0.991156</td>\n",
       "      <td>0.991152</td>\n",
       "      <td>0.962260</td>\n",
       "      <td>0.962464</td>\n",
       "      <td>0.962260</td>\n",
       "      <td>0.962164</td>\n",
       "    </tr>\n",
       "    <tr>\n",
       "      <th>0</th>\n",
       "      <td>count_vect</td>\n",
       "      <td>logistic_regression</td>\n",
       "      <td>0.999763</td>\n",
       "      <td>0.999763</td>\n",
       "      <td>0.999763</td>\n",
       "      <td>0.999763</td>\n",
       "      <td>0.971517</td>\n",
       "      <td>0.971571</td>\n",
       "      <td>0.971517</td>\n",
       "      <td>0.971499</td>\n",
       "    </tr>\n",
       "    <tr>\n",
       "      <th>7</th>\n",
       "      <td>word2vec</td>\n",
       "      <td>decision_tree</td>\n",
       "      <td>1.000000</td>\n",
       "      <td>1.000000</td>\n",
       "      <td>1.000000</td>\n",
       "      <td>1.000000</td>\n",
       "      <td>0.774270</td>\n",
       "      <td>0.775209</td>\n",
       "      <td>0.774270</td>\n",
       "      <td>0.774669</td>\n",
       "    </tr>\n",
       "    <tr>\n",
       "      <th>1</th>\n",
       "      <td>count_vect</td>\n",
       "      <td>decision_tree</td>\n",
       "      <td>1.000000</td>\n",
       "      <td>1.000000</td>\n",
       "      <td>1.000000</td>\n",
       "      <td>1.000000</td>\n",
       "      <td>0.792784</td>\n",
       "      <td>0.793846</td>\n",
       "      <td>0.792784</td>\n",
       "      <td>0.792977</td>\n",
       "    </tr>\n",
       "    <tr>\n",
       "      <th>4</th>\n",
       "      <td>tfidf_vec</td>\n",
       "      <td>decision_tree</td>\n",
       "      <td>1.000000</td>\n",
       "      <td>1.000000</td>\n",
       "      <td>1.000000</td>\n",
       "      <td>1.000000</td>\n",
       "      <td>0.813435</td>\n",
       "      <td>0.813894</td>\n",
       "      <td>0.813435</td>\n",
       "      <td>0.813607</td>\n",
       "    </tr>\n",
       "    <tr>\n",
       "      <th>2</th>\n",
       "      <td>count_vect</td>\n",
       "      <td>random_forest</td>\n",
       "      <td>1.000000</td>\n",
       "      <td>1.000000</td>\n",
       "      <td>1.000000</td>\n",
       "      <td>1.000000</td>\n",
       "      <td>0.867790</td>\n",
       "      <td>0.869749</td>\n",
       "      <td>0.867790</td>\n",
       "      <td>0.864856</td>\n",
       "    </tr>\n",
       "    <tr>\n",
       "      <th>8</th>\n",
       "      <td>word2vec</td>\n",
       "      <td>random_forest</td>\n",
       "      <td>1.000000</td>\n",
       "      <td>1.000000</td>\n",
       "      <td>1.000000</td>\n",
       "      <td>1.000000</td>\n",
       "      <td>0.891526</td>\n",
       "      <td>0.891348</td>\n",
       "      <td>0.891526</td>\n",
       "      <td>0.890767</td>\n",
       "    </tr>\n",
       "    <tr>\n",
       "      <th>5</th>\n",
       "      <td>tfidf_vec</td>\n",
       "      <td>random_forest</td>\n",
       "      <td>1.000000</td>\n",
       "      <td>1.000000</td>\n",
       "      <td>1.000000</td>\n",
       "      <td>1.000000</td>\n",
       "      <td>0.894375</td>\n",
       "      <td>0.894987</td>\n",
       "      <td>0.894375</td>\n",
       "      <td>0.892413</td>\n",
       "    </tr>\n",
       "  </tbody>\n",
       "</table>\n",
       "</div>"
      ],
      "text/plain": [
       "    vect_type                Model  train_accuracy  train_precision  \\\n",
       "6    word2vec  logistic_regression        0.940408         0.940392   \n",
       "3   tfidf_vec  logistic_regression        0.991156         0.991173   \n",
       "0  count_vect  logistic_regression        0.999763         0.999763   \n",
       "7    word2vec        decision_tree        1.000000         1.000000   \n",
       "1  count_vect        decision_tree        1.000000         1.000000   \n",
       "4   tfidf_vec        decision_tree        1.000000         1.000000   \n",
       "2  count_vect        random_forest        1.000000         1.000000   \n",
       "8    word2vec        random_forest        1.000000         1.000000   \n",
       "5   tfidf_vec        random_forest        1.000000         1.000000   \n",
       "\n",
       "   train_recall  train_f1score  test_accuracy  test_precision  test_recall  \\\n",
       "6      0.940408       0.940391       0.941372        0.941295     0.941372   \n",
       "3      0.991156       0.991152       0.962260        0.962464     0.962260   \n",
       "0      0.999763       0.999763       0.971517        0.971571     0.971517   \n",
       "7      1.000000       1.000000       0.774270        0.775209     0.774270   \n",
       "1      1.000000       1.000000       0.792784        0.793846     0.792784   \n",
       "4      1.000000       1.000000       0.813435        0.813894     0.813435   \n",
       "2      1.000000       1.000000       0.867790        0.869749     0.867790   \n",
       "8      1.000000       1.000000       0.891526        0.891348     0.891526   \n",
       "5      1.000000       1.000000       0.894375        0.894987     0.894375   \n",
       "\n",
       "   test_f1score  \n",
       "6      0.941312  \n",
       "3      0.962164  \n",
       "0      0.971499  \n",
       "7      0.774669  \n",
       "1      0.792977  \n",
       "4      0.813607  \n",
       "2      0.864856  \n",
       "8      0.890767  \n",
       "5      0.892413  "
      ]
     },
     "execution_count": 76,
     "metadata": {},
     "output_type": "execute_result"
    }
   ],
   "source": [
    "model_metric_df.sort_values(by=['train_accuracy', 'test_accuracy'])"
   ]
  },
  {
   "cell_type": "markdown",
   "id": "73db6c58",
   "metadata": {
    "ExecuteTime": {
     "end_time": "2024-09-19T17:18:43.805675Z",
     "start_time": "2024-09-19T17:18:43.799656Z"
    }
   },
   "source": [
    "**Better Model**:\n",
    "    \n",
    "    LogisticRegression\n",
    "**Better Vectoriser**:\n",
    "    \n",
    "    Word2Vec"
   ]
  },
  {
   "cell_type": "markdown",
   "id": "7c8ce1f2",
   "metadata": {},
   "source": [
    "### Performing Logistic Regression Hyperparameter Tuning with Word2Vec vectorised input"
   ]
  },
  {
   "cell_type": "code",
   "execution_count": 77,
   "id": "50075b07",
   "metadata": {
    "ExecuteTime": {
     "end_time": "2024-09-22T08:11:55.218407Z",
     "start_time": "2024-09-22T08:11:55.204373Z"
    }
   },
   "outputs": [],
   "source": [
    "logistic_params = {\n",
    "    'C': [0.01, 0.1, 1, 10],\n",
    "    'penalty': ['l1', 'l2'],\n",
    "    'solver': ['liblinear', 'saga'],\n",
    "    'max_iter': [100, 200],\n",
    "    'class_weight': [None, 'balanced']\n",
    "}"
   ]
  },
  {
   "cell_type": "code",
   "execution_count": 78,
   "id": "64a28baf",
   "metadata": {
    "ExecuteTime": {
     "end_time": "2024-09-22T08:16:51.336027Z",
     "start_time": "2024-09-22T08:11:55.222393Z"
    }
   },
   "outputs": [
    {
     "data": {
      "text/html": [
       "<style>#sk-container-id-3 {\n",
       "  /* Definition of color scheme common for light and dark mode */\n",
       "  --sklearn-color-text: black;\n",
       "  --sklearn-color-line: gray;\n",
       "  /* Definition of color scheme for unfitted estimators */\n",
       "  --sklearn-color-unfitted-level-0: #fff5e6;\n",
       "  --sklearn-color-unfitted-level-1: #f6e4d2;\n",
       "  --sklearn-color-unfitted-level-2: #ffe0b3;\n",
       "  --sklearn-color-unfitted-level-3: chocolate;\n",
       "  /* Definition of color scheme for fitted estimators */\n",
       "  --sklearn-color-fitted-level-0: #f0f8ff;\n",
       "  --sklearn-color-fitted-level-1: #d4ebff;\n",
       "  --sklearn-color-fitted-level-2: #b3dbfd;\n",
       "  --sklearn-color-fitted-level-3: cornflowerblue;\n",
       "\n",
       "  /* Specific color for light theme */\n",
       "  --sklearn-color-text-on-default-background: var(--sg-text-color, var(--theme-code-foreground, var(--jp-content-font-color1, black)));\n",
       "  --sklearn-color-background: var(--sg-background-color, var(--theme-background, var(--jp-layout-color0, white)));\n",
       "  --sklearn-color-border-box: var(--sg-text-color, var(--theme-code-foreground, var(--jp-content-font-color1, black)));\n",
       "  --sklearn-color-icon: #696969;\n",
       "\n",
       "  @media (prefers-color-scheme: dark) {\n",
       "    /* Redefinition of color scheme for dark theme */\n",
       "    --sklearn-color-text-on-default-background: var(--sg-text-color, var(--theme-code-foreground, var(--jp-content-font-color1, white)));\n",
       "    --sklearn-color-background: var(--sg-background-color, var(--theme-background, var(--jp-layout-color0, #111)));\n",
       "    --sklearn-color-border-box: var(--sg-text-color, var(--theme-code-foreground, var(--jp-content-font-color1, white)));\n",
       "    --sklearn-color-icon: #878787;\n",
       "  }\n",
       "}\n",
       "\n",
       "#sk-container-id-3 {\n",
       "  color: var(--sklearn-color-text);\n",
       "}\n",
       "\n",
       "#sk-container-id-3 pre {\n",
       "  padding: 0;\n",
       "}\n",
       "\n",
       "#sk-container-id-3 input.sk-hidden--visually {\n",
       "  border: 0;\n",
       "  clip: rect(1px 1px 1px 1px);\n",
       "  clip: rect(1px, 1px, 1px, 1px);\n",
       "  height: 1px;\n",
       "  margin: -1px;\n",
       "  overflow: hidden;\n",
       "  padding: 0;\n",
       "  position: absolute;\n",
       "  width: 1px;\n",
       "}\n",
       "\n",
       "#sk-container-id-3 div.sk-dashed-wrapped {\n",
       "  border: 1px dashed var(--sklearn-color-line);\n",
       "  margin: 0 0.4em 0.5em 0.4em;\n",
       "  box-sizing: border-box;\n",
       "  padding-bottom: 0.4em;\n",
       "  background-color: var(--sklearn-color-background);\n",
       "}\n",
       "\n",
       "#sk-container-id-3 div.sk-container {\n",
       "  /* jupyter's `normalize.less` sets `[hidden] { display: none; }`\n",
       "     but bootstrap.min.css set `[hidden] { display: none !important; }`\n",
       "     so we also need the `!important` here to be able to override the\n",
       "     default hidden behavior on the sphinx rendered scikit-learn.org.\n",
       "     See: https://github.com/scikit-learn/scikit-learn/issues/21755 */\n",
       "  display: inline-block !important;\n",
       "  position: relative;\n",
       "}\n",
       "\n",
       "#sk-container-id-3 div.sk-text-repr-fallback {\n",
       "  display: none;\n",
       "}\n",
       "\n",
       "div.sk-parallel-item,\n",
       "div.sk-serial,\n",
       "div.sk-item {\n",
       "  /* draw centered vertical line to link estimators */\n",
       "  background-image: linear-gradient(var(--sklearn-color-text-on-default-background), var(--sklearn-color-text-on-default-background));\n",
       "  background-size: 2px 100%;\n",
       "  background-repeat: no-repeat;\n",
       "  background-position: center center;\n",
       "}\n",
       "\n",
       "/* Parallel-specific style estimator block */\n",
       "\n",
       "#sk-container-id-3 div.sk-parallel-item::after {\n",
       "  content: \"\";\n",
       "  width: 100%;\n",
       "  border-bottom: 2px solid var(--sklearn-color-text-on-default-background);\n",
       "  flex-grow: 1;\n",
       "}\n",
       "\n",
       "#sk-container-id-3 div.sk-parallel {\n",
       "  display: flex;\n",
       "  align-items: stretch;\n",
       "  justify-content: center;\n",
       "  background-color: var(--sklearn-color-background);\n",
       "  position: relative;\n",
       "}\n",
       "\n",
       "#sk-container-id-3 div.sk-parallel-item {\n",
       "  display: flex;\n",
       "  flex-direction: column;\n",
       "}\n",
       "\n",
       "#sk-container-id-3 div.sk-parallel-item:first-child::after {\n",
       "  align-self: flex-end;\n",
       "  width: 50%;\n",
       "}\n",
       "\n",
       "#sk-container-id-3 div.sk-parallel-item:last-child::after {\n",
       "  align-self: flex-start;\n",
       "  width: 50%;\n",
       "}\n",
       "\n",
       "#sk-container-id-3 div.sk-parallel-item:only-child::after {\n",
       "  width: 0;\n",
       "}\n",
       "\n",
       "/* Serial-specific style estimator block */\n",
       "\n",
       "#sk-container-id-3 div.sk-serial {\n",
       "  display: flex;\n",
       "  flex-direction: column;\n",
       "  align-items: center;\n",
       "  background-color: var(--sklearn-color-background);\n",
       "  padding-right: 1em;\n",
       "  padding-left: 1em;\n",
       "}\n",
       "\n",
       "\n",
       "/* Toggleable style: style used for estimator/Pipeline/ColumnTransformer box that is\n",
       "clickable and can be expanded/collapsed.\n",
       "- Pipeline and ColumnTransformer use this feature and define the default style\n",
       "- Estimators will overwrite some part of the style using the `sk-estimator` class\n",
       "*/\n",
       "\n",
       "/* Pipeline and ColumnTransformer style (default) */\n",
       "\n",
       "#sk-container-id-3 div.sk-toggleable {\n",
       "  /* Default theme specific background. It is overwritten whether we have a\n",
       "  specific estimator or a Pipeline/ColumnTransformer */\n",
       "  background-color: var(--sklearn-color-background);\n",
       "}\n",
       "\n",
       "/* Toggleable label */\n",
       "#sk-container-id-3 label.sk-toggleable__label {\n",
       "  cursor: pointer;\n",
       "  display: block;\n",
       "  width: 100%;\n",
       "  margin-bottom: 0;\n",
       "  padding: 0.5em;\n",
       "  box-sizing: border-box;\n",
       "  text-align: center;\n",
       "}\n",
       "\n",
       "#sk-container-id-3 label.sk-toggleable__label-arrow:before {\n",
       "  /* Arrow on the left of the label */\n",
       "  content: \"▸\";\n",
       "  float: left;\n",
       "  margin-right: 0.25em;\n",
       "  color: var(--sklearn-color-icon);\n",
       "}\n",
       "\n",
       "#sk-container-id-3 label.sk-toggleable__label-arrow:hover:before {\n",
       "  color: var(--sklearn-color-text);\n",
       "}\n",
       "\n",
       "/* Toggleable content - dropdown */\n",
       "\n",
       "#sk-container-id-3 div.sk-toggleable__content {\n",
       "  max-height: 0;\n",
       "  max-width: 0;\n",
       "  overflow: hidden;\n",
       "  text-align: left;\n",
       "  /* unfitted */\n",
       "  background-color: var(--sklearn-color-unfitted-level-0);\n",
       "}\n",
       "\n",
       "#sk-container-id-3 div.sk-toggleable__content.fitted {\n",
       "  /* fitted */\n",
       "  background-color: var(--sklearn-color-fitted-level-0);\n",
       "}\n",
       "\n",
       "#sk-container-id-3 div.sk-toggleable__content pre {\n",
       "  margin: 0.2em;\n",
       "  border-radius: 0.25em;\n",
       "  color: var(--sklearn-color-text);\n",
       "  /* unfitted */\n",
       "  background-color: var(--sklearn-color-unfitted-level-0);\n",
       "}\n",
       "\n",
       "#sk-container-id-3 div.sk-toggleable__content.fitted pre {\n",
       "  /* unfitted */\n",
       "  background-color: var(--sklearn-color-fitted-level-0);\n",
       "}\n",
       "\n",
       "#sk-container-id-3 input.sk-toggleable__control:checked~div.sk-toggleable__content {\n",
       "  /* Expand drop-down */\n",
       "  max-height: 200px;\n",
       "  max-width: 100%;\n",
       "  overflow: auto;\n",
       "}\n",
       "\n",
       "#sk-container-id-3 input.sk-toggleable__control:checked~label.sk-toggleable__label-arrow:before {\n",
       "  content: \"▾\";\n",
       "}\n",
       "\n",
       "/* Pipeline/ColumnTransformer-specific style */\n",
       "\n",
       "#sk-container-id-3 div.sk-label input.sk-toggleable__control:checked~label.sk-toggleable__label {\n",
       "  color: var(--sklearn-color-text);\n",
       "  background-color: var(--sklearn-color-unfitted-level-2);\n",
       "}\n",
       "\n",
       "#sk-container-id-3 div.sk-label.fitted input.sk-toggleable__control:checked~label.sk-toggleable__label {\n",
       "  background-color: var(--sklearn-color-fitted-level-2);\n",
       "}\n",
       "\n",
       "/* Estimator-specific style */\n",
       "\n",
       "/* Colorize estimator box */\n",
       "#sk-container-id-3 div.sk-estimator input.sk-toggleable__control:checked~label.sk-toggleable__label {\n",
       "  /* unfitted */\n",
       "  background-color: var(--sklearn-color-unfitted-level-2);\n",
       "}\n",
       "\n",
       "#sk-container-id-3 div.sk-estimator.fitted input.sk-toggleable__control:checked~label.sk-toggleable__label {\n",
       "  /* fitted */\n",
       "  background-color: var(--sklearn-color-fitted-level-2);\n",
       "}\n",
       "\n",
       "#sk-container-id-3 div.sk-label label.sk-toggleable__label,\n",
       "#sk-container-id-3 div.sk-label label {\n",
       "  /* The background is the default theme color */\n",
       "  color: var(--sklearn-color-text-on-default-background);\n",
       "}\n",
       "\n",
       "/* On hover, darken the color of the background */\n",
       "#sk-container-id-3 div.sk-label:hover label.sk-toggleable__label {\n",
       "  color: var(--sklearn-color-text);\n",
       "  background-color: var(--sklearn-color-unfitted-level-2);\n",
       "}\n",
       "\n",
       "/* Label box, darken color on hover, fitted */\n",
       "#sk-container-id-3 div.sk-label.fitted:hover label.sk-toggleable__label.fitted {\n",
       "  color: var(--sklearn-color-text);\n",
       "  background-color: var(--sklearn-color-fitted-level-2);\n",
       "}\n",
       "\n",
       "/* Estimator label */\n",
       "\n",
       "#sk-container-id-3 div.sk-label label {\n",
       "  font-family: monospace;\n",
       "  font-weight: bold;\n",
       "  display: inline-block;\n",
       "  line-height: 1.2em;\n",
       "}\n",
       "\n",
       "#sk-container-id-3 div.sk-label-container {\n",
       "  text-align: center;\n",
       "}\n",
       "\n",
       "/* Estimator-specific */\n",
       "#sk-container-id-3 div.sk-estimator {\n",
       "  font-family: monospace;\n",
       "  border: 1px dotted var(--sklearn-color-border-box);\n",
       "  border-radius: 0.25em;\n",
       "  box-sizing: border-box;\n",
       "  margin-bottom: 0.5em;\n",
       "  /* unfitted */\n",
       "  background-color: var(--sklearn-color-unfitted-level-0);\n",
       "}\n",
       "\n",
       "#sk-container-id-3 div.sk-estimator.fitted {\n",
       "  /* fitted */\n",
       "  background-color: var(--sklearn-color-fitted-level-0);\n",
       "}\n",
       "\n",
       "/* on hover */\n",
       "#sk-container-id-3 div.sk-estimator:hover {\n",
       "  /* unfitted */\n",
       "  background-color: var(--sklearn-color-unfitted-level-2);\n",
       "}\n",
       "\n",
       "#sk-container-id-3 div.sk-estimator.fitted:hover {\n",
       "  /* fitted */\n",
       "  background-color: var(--sklearn-color-fitted-level-2);\n",
       "}\n",
       "\n",
       "/* Specification for estimator info (e.g. \"i\" and \"?\") */\n",
       "\n",
       "/* Common style for \"i\" and \"?\" */\n",
       "\n",
       ".sk-estimator-doc-link,\n",
       "a:link.sk-estimator-doc-link,\n",
       "a:visited.sk-estimator-doc-link {\n",
       "  float: right;\n",
       "  font-size: smaller;\n",
       "  line-height: 1em;\n",
       "  font-family: monospace;\n",
       "  background-color: var(--sklearn-color-background);\n",
       "  border-radius: 1em;\n",
       "  height: 1em;\n",
       "  width: 1em;\n",
       "  text-decoration: none !important;\n",
       "  margin-left: 1ex;\n",
       "  /* unfitted */\n",
       "  border: var(--sklearn-color-unfitted-level-1) 1pt solid;\n",
       "  color: var(--sklearn-color-unfitted-level-1);\n",
       "}\n",
       "\n",
       ".sk-estimator-doc-link.fitted,\n",
       "a:link.sk-estimator-doc-link.fitted,\n",
       "a:visited.sk-estimator-doc-link.fitted {\n",
       "  /* fitted */\n",
       "  border: var(--sklearn-color-fitted-level-1) 1pt solid;\n",
       "  color: var(--sklearn-color-fitted-level-1);\n",
       "}\n",
       "\n",
       "/* On hover */\n",
       "div.sk-estimator:hover .sk-estimator-doc-link:hover,\n",
       ".sk-estimator-doc-link:hover,\n",
       "div.sk-label-container:hover .sk-estimator-doc-link:hover,\n",
       ".sk-estimator-doc-link:hover {\n",
       "  /* unfitted */\n",
       "  background-color: var(--sklearn-color-unfitted-level-3);\n",
       "  color: var(--sklearn-color-background);\n",
       "  text-decoration: none;\n",
       "}\n",
       "\n",
       "div.sk-estimator.fitted:hover .sk-estimator-doc-link.fitted:hover,\n",
       ".sk-estimator-doc-link.fitted:hover,\n",
       "div.sk-label-container:hover .sk-estimator-doc-link.fitted:hover,\n",
       ".sk-estimator-doc-link.fitted:hover {\n",
       "  /* fitted */\n",
       "  background-color: var(--sklearn-color-fitted-level-3);\n",
       "  color: var(--sklearn-color-background);\n",
       "  text-decoration: none;\n",
       "}\n",
       "\n",
       "/* Span, style for the box shown on hovering the info icon */\n",
       ".sk-estimator-doc-link span {\n",
       "  display: none;\n",
       "  z-index: 9999;\n",
       "  position: relative;\n",
       "  font-weight: normal;\n",
       "  right: .2ex;\n",
       "  padding: .5ex;\n",
       "  margin: .5ex;\n",
       "  width: min-content;\n",
       "  min-width: 20ex;\n",
       "  max-width: 50ex;\n",
       "  color: var(--sklearn-color-text);\n",
       "  box-shadow: 2pt 2pt 4pt #999;\n",
       "  /* unfitted */\n",
       "  background: var(--sklearn-color-unfitted-level-0);\n",
       "  border: .5pt solid var(--sklearn-color-unfitted-level-3);\n",
       "}\n",
       "\n",
       ".sk-estimator-doc-link.fitted span {\n",
       "  /* fitted */\n",
       "  background: var(--sklearn-color-fitted-level-0);\n",
       "  border: var(--sklearn-color-fitted-level-3);\n",
       "}\n",
       "\n",
       ".sk-estimator-doc-link:hover span {\n",
       "  display: block;\n",
       "}\n",
       "\n",
       "/* \"?\"-specific style due to the `<a>` HTML tag */\n",
       "\n",
       "#sk-container-id-3 a.estimator_doc_link {\n",
       "  float: right;\n",
       "  font-size: 1rem;\n",
       "  line-height: 1em;\n",
       "  font-family: monospace;\n",
       "  background-color: var(--sklearn-color-background);\n",
       "  border-radius: 1rem;\n",
       "  height: 1rem;\n",
       "  width: 1rem;\n",
       "  text-decoration: none;\n",
       "  /* unfitted */\n",
       "  color: var(--sklearn-color-unfitted-level-1);\n",
       "  border: var(--sklearn-color-unfitted-level-1) 1pt solid;\n",
       "}\n",
       "\n",
       "#sk-container-id-3 a.estimator_doc_link.fitted {\n",
       "  /* fitted */\n",
       "  border: var(--sklearn-color-fitted-level-1) 1pt solid;\n",
       "  color: var(--sklearn-color-fitted-level-1);\n",
       "}\n",
       "\n",
       "/* On hover */\n",
       "#sk-container-id-3 a.estimator_doc_link:hover {\n",
       "  /* unfitted */\n",
       "  background-color: var(--sklearn-color-unfitted-level-3);\n",
       "  color: var(--sklearn-color-background);\n",
       "  text-decoration: none;\n",
       "}\n",
       "\n",
       "#sk-container-id-3 a.estimator_doc_link.fitted:hover {\n",
       "  /* fitted */\n",
       "  background-color: var(--sklearn-color-fitted-level-3);\n",
       "}\n",
       "</style><div id=\"sk-container-id-3\" class=\"sk-top-container\"><div class=\"sk-text-repr-fallback\"><pre>RandomizedSearchCV(cv=5, estimator=LogisticRegression(n_jobs=-1),\n",
       "                   param_distributions={&#x27;C&#x27;: [0.01, 0.1, 1, 10],\n",
       "                                        &#x27;class_weight&#x27;: [None, &#x27;balanced&#x27;],\n",
       "                                        &#x27;max_iter&#x27;: [100, 200],\n",
       "                                        &#x27;penalty&#x27;: [&#x27;l1&#x27;, &#x27;l2&#x27;],\n",
       "                                        &#x27;solver&#x27;: [&#x27;liblinear&#x27;, &#x27;saga&#x27;]},\n",
       "                   scoring=&#x27;f1&#x27;)</pre><b>In a Jupyter environment, please rerun this cell to show the HTML representation or trust the notebook. <br />On GitHub, the HTML representation is unable to render, please try loading this page with nbviewer.org.</b></div><div class=\"sk-container\" hidden><div class=\"sk-item sk-dashed-wrapped\"><div class=\"sk-label-container\"><div class=\"sk-label fitted sk-toggleable\"><input class=\"sk-toggleable__control sk-hidden--visually\" id=\"sk-estimator-id-3\" type=\"checkbox\" ><label for=\"sk-estimator-id-3\" class=\"sk-toggleable__label fitted sk-toggleable__label-arrow fitted\">&nbsp;&nbsp;RandomizedSearchCV<a class=\"sk-estimator-doc-link fitted\" rel=\"noreferrer\" target=\"_blank\" href=\"https://scikit-learn.org/1.4/modules/generated/sklearn.model_selection.RandomizedSearchCV.html\">?<span>Documentation for RandomizedSearchCV</span></a><span class=\"sk-estimator-doc-link fitted\">i<span>Fitted</span></span></label><div class=\"sk-toggleable__content fitted\"><pre>RandomizedSearchCV(cv=5, estimator=LogisticRegression(n_jobs=-1),\n",
       "                   param_distributions={&#x27;C&#x27;: [0.01, 0.1, 1, 10],\n",
       "                                        &#x27;class_weight&#x27;: [None, &#x27;balanced&#x27;],\n",
       "                                        &#x27;max_iter&#x27;: [100, 200],\n",
       "                                        &#x27;penalty&#x27;: [&#x27;l1&#x27;, &#x27;l2&#x27;],\n",
       "                                        &#x27;solver&#x27;: [&#x27;liblinear&#x27;, &#x27;saga&#x27;]},\n",
       "                   scoring=&#x27;f1&#x27;)</pre></div> </div></div><div class=\"sk-parallel\"><div class=\"sk-parallel-item\"><div class=\"sk-item\"><div class=\"sk-label-container\"><div class=\"sk-label fitted sk-toggleable\"><input class=\"sk-toggleable__control sk-hidden--visually\" id=\"sk-estimator-id-4\" type=\"checkbox\" ><label for=\"sk-estimator-id-4\" class=\"sk-toggleable__label fitted sk-toggleable__label-arrow fitted\">estimator: LogisticRegression</label><div class=\"sk-toggleable__content fitted\"><pre>LogisticRegression(n_jobs=-1)</pre></div> </div></div><div class=\"sk-serial\"><div class=\"sk-item\"><div class=\"sk-estimator fitted sk-toggleable\"><input class=\"sk-toggleable__control sk-hidden--visually\" id=\"sk-estimator-id-5\" type=\"checkbox\" ><label for=\"sk-estimator-id-5\" class=\"sk-toggleable__label fitted sk-toggleable__label-arrow fitted\">&nbsp;LogisticRegression<a class=\"sk-estimator-doc-link fitted\" rel=\"noreferrer\" target=\"_blank\" href=\"https://scikit-learn.org/1.4/modules/generated/sklearn.linear_model.LogisticRegression.html\">?<span>Documentation for LogisticRegression</span></a></label><div class=\"sk-toggleable__content fitted\"><pre>LogisticRegression(n_jobs=-1)</pre></div> </div></div></div></div></div></div></div></div></div>"
      ],
      "text/plain": [
       "RandomizedSearchCV(cv=5, estimator=LogisticRegression(n_jobs=-1),\n",
       "                   param_distributions={'C': [0.01, 0.1, 1, 10],\n",
       "                                        'class_weight': [None, 'balanced'],\n",
       "                                        'max_iter': [100, 200],\n",
       "                                        'penalty': ['l1', 'l2'],\n",
       "                                        'solver': ['liblinear', 'saga']},\n",
       "                   scoring='f1')"
      ]
     },
     "execution_count": 78,
     "metadata": {},
     "output_type": "execute_result"
    }
   ],
   "source": [
    "logistic_grid = RandomizedSearchCV(LogisticRegression(n_jobs=-1),\n",
    "                                   logistic_params,\n",
    "                                   cv=5,\n",
    "                                   scoring='f1')\n",
    "logistic_grid.fit(X_train_word2vec, y_train)"
   ]
  },
  {
   "cell_type": "code",
   "execution_count": 79,
   "id": "430bbbd4",
   "metadata": {
    "ExecuteTime": {
     "end_time": "2024-09-22T08:16:51.351285Z",
     "start_time": "2024-09-22T08:16:51.339004Z"
    }
   },
   "outputs": [
    {
     "name": "stdout",
     "output_type": "stream",
     "text": [
      "Best parameters for Logistic Regression: {'solver': 'saga', 'penalty': 'l1', 'max_iter': 200, 'class_weight': None, 'C': 0.1}\n",
      "Best score for Logistic Regression: nan\n"
     ]
    }
   ],
   "source": [
    "print(\"Best parameters for Logistic Regression:\", logistic_grid.best_params_)\n",
    "print(\"Best score for Logistic Regression:\", logistic_grid.best_score_)"
   ]
  },
  {
   "cell_type": "code",
   "execution_count": 80,
   "id": "55ce122d",
   "metadata": {
    "ExecuteTime": {
     "end_time": "2024-09-22T08:16:51.389398Z",
     "start_time": "2024-09-22T08:16:51.354636Z"
    }
   },
   "outputs": [
    {
     "name": "stdout",
     "output_type": "stream",
     "text": [
      "              precision    recall  f1-score   support\n",
      "\n",
      "           0       0.93      0.95      0.94      1025\n",
      "           1       0.92      0.95      0.94       845\n",
      "           2       0.93      0.93      0.93       777\n",
      "           3       0.92      0.92      0.92      1105\n",
      "           4       0.91      0.83      0.87       461\n",
      "\n",
      "    accuracy                           0.92      4213\n",
      "   macro avg       0.92      0.92      0.92      4213\n",
      "weighted avg       0.92      0.92      0.92      4213\n",
      "\n"
     ]
    }
   ],
   "source": [
    "# Evaluate on test set\n",
    "logistic_best = logistic_grid.best_estimator_\n",
    "y_pred_logistic = logistic_best.predict(X_test_word2vec)\n",
    "print(classification_report(y_test, y_pred_logistic))"
   ]
  },
  {
   "cell_type": "markdown",
   "id": "7d1dde3a",
   "metadata": {
    "ExecuteTime": {
     "end_time": "2024-09-19T17:38:05.900056Z",
     "start_time": "2024-09-19T17:38:05.891442Z"
    }
   },
   "source": [
    "### Performing Random Forest Hyperparameter Tuning with Word2Vec vectorised input"
   ]
  },
  {
   "cell_type": "code",
   "execution_count": 81,
   "id": "8052bcec",
   "metadata": {
    "ExecuteTime": {
     "end_time": "2024-09-22T08:16:51.405048Z",
     "start_time": "2024-09-22T08:16:51.389398Z"
    }
   },
   "outputs": [],
   "source": [
    "# Hyperparameter tuning for Random Forest\n",
    "rf_params = {\n",
    "    'n_estimators': [50, 100, 200],\n",
    "    'max_depth': [None, 10, 20, 30],\n",
    "    'min_samples_split': [2, 5, 10],\n",
    "    'min_samples_leaf': [1, 2, 4],\n",
    "    'max_features': ['auto', 'sqrt', 'log2'],\n",
    "    'class_weight': [None, 'balanced']\n",
    "}"
   ]
  },
  {
   "cell_type": "code",
   "execution_count": 82,
   "id": "d08f4bd8",
   "metadata": {
    "ExecuteTime": {
     "end_time": "2024-09-22T08:18:06.764355Z",
     "start_time": "2024-09-22T08:16:51.409005Z"
    }
   },
   "outputs": [
    {
     "data": {
      "text/html": [
       "<style>#sk-container-id-4 {\n",
       "  /* Definition of color scheme common for light and dark mode */\n",
       "  --sklearn-color-text: black;\n",
       "  --sklearn-color-line: gray;\n",
       "  /* Definition of color scheme for unfitted estimators */\n",
       "  --sklearn-color-unfitted-level-0: #fff5e6;\n",
       "  --sklearn-color-unfitted-level-1: #f6e4d2;\n",
       "  --sklearn-color-unfitted-level-2: #ffe0b3;\n",
       "  --sklearn-color-unfitted-level-3: chocolate;\n",
       "  /* Definition of color scheme for fitted estimators */\n",
       "  --sklearn-color-fitted-level-0: #f0f8ff;\n",
       "  --sklearn-color-fitted-level-1: #d4ebff;\n",
       "  --sklearn-color-fitted-level-2: #b3dbfd;\n",
       "  --sklearn-color-fitted-level-3: cornflowerblue;\n",
       "\n",
       "  /* Specific color for light theme */\n",
       "  --sklearn-color-text-on-default-background: var(--sg-text-color, var(--theme-code-foreground, var(--jp-content-font-color1, black)));\n",
       "  --sklearn-color-background: var(--sg-background-color, var(--theme-background, var(--jp-layout-color0, white)));\n",
       "  --sklearn-color-border-box: var(--sg-text-color, var(--theme-code-foreground, var(--jp-content-font-color1, black)));\n",
       "  --sklearn-color-icon: #696969;\n",
       "\n",
       "  @media (prefers-color-scheme: dark) {\n",
       "    /* Redefinition of color scheme for dark theme */\n",
       "    --sklearn-color-text-on-default-background: var(--sg-text-color, var(--theme-code-foreground, var(--jp-content-font-color1, white)));\n",
       "    --sklearn-color-background: var(--sg-background-color, var(--theme-background, var(--jp-layout-color0, #111)));\n",
       "    --sklearn-color-border-box: var(--sg-text-color, var(--theme-code-foreground, var(--jp-content-font-color1, white)));\n",
       "    --sklearn-color-icon: #878787;\n",
       "  }\n",
       "}\n",
       "\n",
       "#sk-container-id-4 {\n",
       "  color: var(--sklearn-color-text);\n",
       "}\n",
       "\n",
       "#sk-container-id-4 pre {\n",
       "  padding: 0;\n",
       "}\n",
       "\n",
       "#sk-container-id-4 input.sk-hidden--visually {\n",
       "  border: 0;\n",
       "  clip: rect(1px 1px 1px 1px);\n",
       "  clip: rect(1px, 1px, 1px, 1px);\n",
       "  height: 1px;\n",
       "  margin: -1px;\n",
       "  overflow: hidden;\n",
       "  padding: 0;\n",
       "  position: absolute;\n",
       "  width: 1px;\n",
       "}\n",
       "\n",
       "#sk-container-id-4 div.sk-dashed-wrapped {\n",
       "  border: 1px dashed var(--sklearn-color-line);\n",
       "  margin: 0 0.4em 0.5em 0.4em;\n",
       "  box-sizing: border-box;\n",
       "  padding-bottom: 0.4em;\n",
       "  background-color: var(--sklearn-color-background);\n",
       "}\n",
       "\n",
       "#sk-container-id-4 div.sk-container {\n",
       "  /* jupyter's `normalize.less` sets `[hidden] { display: none; }`\n",
       "     but bootstrap.min.css set `[hidden] { display: none !important; }`\n",
       "     so we also need the `!important` here to be able to override the\n",
       "     default hidden behavior on the sphinx rendered scikit-learn.org.\n",
       "     See: https://github.com/scikit-learn/scikit-learn/issues/21755 */\n",
       "  display: inline-block !important;\n",
       "  position: relative;\n",
       "}\n",
       "\n",
       "#sk-container-id-4 div.sk-text-repr-fallback {\n",
       "  display: none;\n",
       "}\n",
       "\n",
       "div.sk-parallel-item,\n",
       "div.sk-serial,\n",
       "div.sk-item {\n",
       "  /* draw centered vertical line to link estimators */\n",
       "  background-image: linear-gradient(var(--sklearn-color-text-on-default-background), var(--sklearn-color-text-on-default-background));\n",
       "  background-size: 2px 100%;\n",
       "  background-repeat: no-repeat;\n",
       "  background-position: center center;\n",
       "}\n",
       "\n",
       "/* Parallel-specific style estimator block */\n",
       "\n",
       "#sk-container-id-4 div.sk-parallel-item::after {\n",
       "  content: \"\";\n",
       "  width: 100%;\n",
       "  border-bottom: 2px solid var(--sklearn-color-text-on-default-background);\n",
       "  flex-grow: 1;\n",
       "}\n",
       "\n",
       "#sk-container-id-4 div.sk-parallel {\n",
       "  display: flex;\n",
       "  align-items: stretch;\n",
       "  justify-content: center;\n",
       "  background-color: var(--sklearn-color-background);\n",
       "  position: relative;\n",
       "}\n",
       "\n",
       "#sk-container-id-4 div.sk-parallel-item {\n",
       "  display: flex;\n",
       "  flex-direction: column;\n",
       "}\n",
       "\n",
       "#sk-container-id-4 div.sk-parallel-item:first-child::after {\n",
       "  align-self: flex-end;\n",
       "  width: 50%;\n",
       "}\n",
       "\n",
       "#sk-container-id-4 div.sk-parallel-item:last-child::after {\n",
       "  align-self: flex-start;\n",
       "  width: 50%;\n",
       "}\n",
       "\n",
       "#sk-container-id-4 div.sk-parallel-item:only-child::after {\n",
       "  width: 0;\n",
       "}\n",
       "\n",
       "/* Serial-specific style estimator block */\n",
       "\n",
       "#sk-container-id-4 div.sk-serial {\n",
       "  display: flex;\n",
       "  flex-direction: column;\n",
       "  align-items: center;\n",
       "  background-color: var(--sklearn-color-background);\n",
       "  padding-right: 1em;\n",
       "  padding-left: 1em;\n",
       "}\n",
       "\n",
       "\n",
       "/* Toggleable style: style used for estimator/Pipeline/ColumnTransformer box that is\n",
       "clickable and can be expanded/collapsed.\n",
       "- Pipeline and ColumnTransformer use this feature and define the default style\n",
       "- Estimators will overwrite some part of the style using the `sk-estimator` class\n",
       "*/\n",
       "\n",
       "/* Pipeline and ColumnTransformer style (default) */\n",
       "\n",
       "#sk-container-id-4 div.sk-toggleable {\n",
       "  /* Default theme specific background. It is overwritten whether we have a\n",
       "  specific estimator or a Pipeline/ColumnTransformer */\n",
       "  background-color: var(--sklearn-color-background);\n",
       "}\n",
       "\n",
       "/* Toggleable label */\n",
       "#sk-container-id-4 label.sk-toggleable__label {\n",
       "  cursor: pointer;\n",
       "  display: block;\n",
       "  width: 100%;\n",
       "  margin-bottom: 0;\n",
       "  padding: 0.5em;\n",
       "  box-sizing: border-box;\n",
       "  text-align: center;\n",
       "}\n",
       "\n",
       "#sk-container-id-4 label.sk-toggleable__label-arrow:before {\n",
       "  /* Arrow on the left of the label */\n",
       "  content: \"▸\";\n",
       "  float: left;\n",
       "  margin-right: 0.25em;\n",
       "  color: var(--sklearn-color-icon);\n",
       "}\n",
       "\n",
       "#sk-container-id-4 label.sk-toggleable__label-arrow:hover:before {\n",
       "  color: var(--sklearn-color-text);\n",
       "}\n",
       "\n",
       "/* Toggleable content - dropdown */\n",
       "\n",
       "#sk-container-id-4 div.sk-toggleable__content {\n",
       "  max-height: 0;\n",
       "  max-width: 0;\n",
       "  overflow: hidden;\n",
       "  text-align: left;\n",
       "  /* unfitted */\n",
       "  background-color: var(--sklearn-color-unfitted-level-0);\n",
       "}\n",
       "\n",
       "#sk-container-id-4 div.sk-toggleable__content.fitted {\n",
       "  /* fitted */\n",
       "  background-color: var(--sklearn-color-fitted-level-0);\n",
       "}\n",
       "\n",
       "#sk-container-id-4 div.sk-toggleable__content pre {\n",
       "  margin: 0.2em;\n",
       "  border-radius: 0.25em;\n",
       "  color: var(--sklearn-color-text);\n",
       "  /* unfitted */\n",
       "  background-color: var(--sklearn-color-unfitted-level-0);\n",
       "}\n",
       "\n",
       "#sk-container-id-4 div.sk-toggleable__content.fitted pre {\n",
       "  /* unfitted */\n",
       "  background-color: var(--sklearn-color-fitted-level-0);\n",
       "}\n",
       "\n",
       "#sk-container-id-4 input.sk-toggleable__control:checked~div.sk-toggleable__content {\n",
       "  /* Expand drop-down */\n",
       "  max-height: 200px;\n",
       "  max-width: 100%;\n",
       "  overflow: auto;\n",
       "}\n",
       "\n",
       "#sk-container-id-4 input.sk-toggleable__control:checked~label.sk-toggleable__label-arrow:before {\n",
       "  content: \"▾\";\n",
       "}\n",
       "\n",
       "/* Pipeline/ColumnTransformer-specific style */\n",
       "\n",
       "#sk-container-id-4 div.sk-label input.sk-toggleable__control:checked~label.sk-toggleable__label {\n",
       "  color: var(--sklearn-color-text);\n",
       "  background-color: var(--sklearn-color-unfitted-level-2);\n",
       "}\n",
       "\n",
       "#sk-container-id-4 div.sk-label.fitted input.sk-toggleable__control:checked~label.sk-toggleable__label {\n",
       "  background-color: var(--sklearn-color-fitted-level-2);\n",
       "}\n",
       "\n",
       "/* Estimator-specific style */\n",
       "\n",
       "/* Colorize estimator box */\n",
       "#sk-container-id-4 div.sk-estimator input.sk-toggleable__control:checked~label.sk-toggleable__label {\n",
       "  /* unfitted */\n",
       "  background-color: var(--sklearn-color-unfitted-level-2);\n",
       "}\n",
       "\n",
       "#sk-container-id-4 div.sk-estimator.fitted input.sk-toggleable__control:checked~label.sk-toggleable__label {\n",
       "  /* fitted */\n",
       "  background-color: var(--sklearn-color-fitted-level-2);\n",
       "}\n",
       "\n",
       "#sk-container-id-4 div.sk-label label.sk-toggleable__label,\n",
       "#sk-container-id-4 div.sk-label label {\n",
       "  /* The background is the default theme color */\n",
       "  color: var(--sklearn-color-text-on-default-background);\n",
       "}\n",
       "\n",
       "/* On hover, darken the color of the background */\n",
       "#sk-container-id-4 div.sk-label:hover label.sk-toggleable__label {\n",
       "  color: var(--sklearn-color-text);\n",
       "  background-color: var(--sklearn-color-unfitted-level-2);\n",
       "}\n",
       "\n",
       "/* Label box, darken color on hover, fitted */\n",
       "#sk-container-id-4 div.sk-label.fitted:hover label.sk-toggleable__label.fitted {\n",
       "  color: var(--sklearn-color-text);\n",
       "  background-color: var(--sklearn-color-fitted-level-2);\n",
       "}\n",
       "\n",
       "/* Estimator label */\n",
       "\n",
       "#sk-container-id-4 div.sk-label label {\n",
       "  font-family: monospace;\n",
       "  font-weight: bold;\n",
       "  display: inline-block;\n",
       "  line-height: 1.2em;\n",
       "}\n",
       "\n",
       "#sk-container-id-4 div.sk-label-container {\n",
       "  text-align: center;\n",
       "}\n",
       "\n",
       "/* Estimator-specific */\n",
       "#sk-container-id-4 div.sk-estimator {\n",
       "  font-family: monospace;\n",
       "  border: 1px dotted var(--sklearn-color-border-box);\n",
       "  border-radius: 0.25em;\n",
       "  box-sizing: border-box;\n",
       "  margin-bottom: 0.5em;\n",
       "  /* unfitted */\n",
       "  background-color: var(--sklearn-color-unfitted-level-0);\n",
       "}\n",
       "\n",
       "#sk-container-id-4 div.sk-estimator.fitted {\n",
       "  /* fitted */\n",
       "  background-color: var(--sklearn-color-fitted-level-0);\n",
       "}\n",
       "\n",
       "/* on hover */\n",
       "#sk-container-id-4 div.sk-estimator:hover {\n",
       "  /* unfitted */\n",
       "  background-color: var(--sklearn-color-unfitted-level-2);\n",
       "}\n",
       "\n",
       "#sk-container-id-4 div.sk-estimator.fitted:hover {\n",
       "  /* fitted */\n",
       "  background-color: var(--sklearn-color-fitted-level-2);\n",
       "}\n",
       "\n",
       "/* Specification for estimator info (e.g. \"i\" and \"?\") */\n",
       "\n",
       "/* Common style for \"i\" and \"?\" */\n",
       "\n",
       ".sk-estimator-doc-link,\n",
       "a:link.sk-estimator-doc-link,\n",
       "a:visited.sk-estimator-doc-link {\n",
       "  float: right;\n",
       "  font-size: smaller;\n",
       "  line-height: 1em;\n",
       "  font-family: monospace;\n",
       "  background-color: var(--sklearn-color-background);\n",
       "  border-radius: 1em;\n",
       "  height: 1em;\n",
       "  width: 1em;\n",
       "  text-decoration: none !important;\n",
       "  margin-left: 1ex;\n",
       "  /* unfitted */\n",
       "  border: var(--sklearn-color-unfitted-level-1) 1pt solid;\n",
       "  color: var(--sklearn-color-unfitted-level-1);\n",
       "}\n",
       "\n",
       ".sk-estimator-doc-link.fitted,\n",
       "a:link.sk-estimator-doc-link.fitted,\n",
       "a:visited.sk-estimator-doc-link.fitted {\n",
       "  /* fitted */\n",
       "  border: var(--sklearn-color-fitted-level-1) 1pt solid;\n",
       "  color: var(--sklearn-color-fitted-level-1);\n",
       "}\n",
       "\n",
       "/* On hover */\n",
       "div.sk-estimator:hover .sk-estimator-doc-link:hover,\n",
       ".sk-estimator-doc-link:hover,\n",
       "div.sk-label-container:hover .sk-estimator-doc-link:hover,\n",
       ".sk-estimator-doc-link:hover {\n",
       "  /* unfitted */\n",
       "  background-color: var(--sklearn-color-unfitted-level-3);\n",
       "  color: var(--sklearn-color-background);\n",
       "  text-decoration: none;\n",
       "}\n",
       "\n",
       "div.sk-estimator.fitted:hover .sk-estimator-doc-link.fitted:hover,\n",
       ".sk-estimator-doc-link.fitted:hover,\n",
       "div.sk-label-container:hover .sk-estimator-doc-link.fitted:hover,\n",
       ".sk-estimator-doc-link.fitted:hover {\n",
       "  /* fitted */\n",
       "  background-color: var(--sklearn-color-fitted-level-3);\n",
       "  color: var(--sklearn-color-background);\n",
       "  text-decoration: none;\n",
       "}\n",
       "\n",
       "/* Span, style for the box shown on hovering the info icon */\n",
       ".sk-estimator-doc-link span {\n",
       "  display: none;\n",
       "  z-index: 9999;\n",
       "  position: relative;\n",
       "  font-weight: normal;\n",
       "  right: .2ex;\n",
       "  padding: .5ex;\n",
       "  margin: .5ex;\n",
       "  width: min-content;\n",
       "  min-width: 20ex;\n",
       "  max-width: 50ex;\n",
       "  color: var(--sklearn-color-text);\n",
       "  box-shadow: 2pt 2pt 4pt #999;\n",
       "  /* unfitted */\n",
       "  background: var(--sklearn-color-unfitted-level-0);\n",
       "  border: .5pt solid var(--sklearn-color-unfitted-level-3);\n",
       "}\n",
       "\n",
       ".sk-estimator-doc-link.fitted span {\n",
       "  /* fitted */\n",
       "  background: var(--sklearn-color-fitted-level-0);\n",
       "  border: var(--sklearn-color-fitted-level-3);\n",
       "}\n",
       "\n",
       ".sk-estimator-doc-link:hover span {\n",
       "  display: block;\n",
       "}\n",
       "\n",
       "/* \"?\"-specific style due to the `<a>` HTML tag */\n",
       "\n",
       "#sk-container-id-4 a.estimator_doc_link {\n",
       "  float: right;\n",
       "  font-size: 1rem;\n",
       "  line-height: 1em;\n",
       "  font-family: monospace;\n",
       "  background-color: var(--sklearn-color-background);\n",
       "  border-radius: 1rem;\n",
       "  height: 1rem;\n",
       "  width: 1rem;\n",
       "  text-decoration: none;\n",
       "  /* unfitted */\n",
       "  color: var(--sklearn-color-unfitted-level-1);\n",
       "  border: var(--sklearn-color-unfitted-level-1) 1pt solid;\n",
       "}\n",
       "\n",
       "#sk-container-id-4 a.estimator_doc_link.fitted {\n",
       "  /* fitted */\n",
       "  border: var(--sklearn-color-fitted-level-1) 1pt solid;\n",
       "  color: var(--sklearn-color-fitted-level-1);\n",
       "}\n",
       "\n",
       "/* On hover */\n",
       "#sk-container-id-4 a.estimator_doc_link:hover {\n",
       "  /* unfitted */\n",
       "  background-color: var(--sklearn-color-unfitted-level-3);\n",
       "  color: var(--sklearn-color-background);\n",
       "  text-decoration: none;\n",
       "}\n",
       "\n",
       "#sk-container-id-4 a.estimator_doc_link.fitted:hover {\n",
       "  /* fitted */\n",
       "  background-color: var(--sklearn-color-fitted-level-3);\n",
       "}\n",
       "</style><div id=\"sk-container-id-4\" class=\"sk-top-container\"><div class=\"sk-text-repr-fallback\"><pre>RandomizedSearchCV(cv=5, estimator=RandomForestClassifier(), n_jobs=-1,\n",
       "                   param_distributions={&#x27;class_weight&#x27;: [None, &#x27;balanced&#x27;],\n",
       "                                        &#x27;max_depth&#x27;: [None, 10, 20, 30],\n",
       "                                        &#x27;max_features&#x27;: [&#x27;auto&#x27;, &#x27;sqrt&#x27;,\n",
       "                                                         &#x27;log2&#x27;],\n",
       "                                        &#x27;min_samples_leaf&#x27;: [1, 2, 4],\n",
       "                                        &#x27;min_samples_split&#x27;: [2, 5, 10],\n",
       "                                        &#x27;n_estimators&#x27;: [50, 100, 200]},\n",
       "                   scoring=&#x27;f1&#x27;)</pre><b>In a Jupyter environment, please rerun this cell to show the HTML representation or trust the notebook. <br />On GitHub, the HTML representation is unable to render, please try loading this page with nbviewer.org.</b></div><div class=\"sk-container\" hidden><div class=\"sk-item sk-dashed-wrapped\"><div class=\"sk-label-container\"><div class=\"sk-label fitted sk-toggleable\"><input class=\"sk-toggleable__control sk-hidden--visually\" id=\"sk-estimator-id-6\" type=\"checkbox\" ><label for=\"sk-estimator-id-6\" class=\"sk-toggleable__label fitted sk-toggleable__label-arrow fitted\">&nbsp;&nbsp;RandomizedSearchCV<a class=\"sk-estimator-doc-link fitted\" rel=\"noreferrer\" target=\"_blank\" href=\"https://scikit-learn.org/1.4/modules/generated/sklearn.model_selection.RandomizedSearchCV.html\">?<span>Documentation for RandomizedSearchCV</span></a><span class=\"sk-estimator-doc-link fitted\">i<span>Fitted</span></span></label><div class=\"sk-toggleable__content fitted\"><pre>RandomizedSearchCV(cv=5, estimator=RandomForestClassifier(), n_jobs=-1,\n",
       "                   param_distributions={&#x27;class_weight&#x27;: [None, &#x27;balanced&#x27;],\n",
       "                                        &#x27;max_depth&#x27;: [None, 10, 20, 30],\n",
       "                                        &#x27;max_features&#x27;: [&#x27;auto&#x27;, &#x27;sqrt&#x27;,\n",
       "                                                         &#x27;log2&#x27;],\n",
       "                                        &#x27;min_samples_leaf&#x27;: [1, 2, 4],\n",
       "                                        &#x27;min_samples_split&#x27;: [2, 5, 10],\n",
       "                                        &#x27;n_estimators&#x27;: [50, 100, 200]},\n",
       "                   scoring=&#x27;f1&#x27;)</pre></div> </div></div><div class=\"sk-parallel\"><div class=\"sk-parallel-item\"><div class=\"sk-item\"><div class=\"sk-label-container\"><div class=\"sk-label fitted sk-toggleable\"><input class=\"sk-toggleable__control sk-hidden--visually\" id=\"sk-estimator-id-7\" type=\"checkbox\" ><label for=\"sk-estimator-id-7\" class=\"sk-toggleable__label fitted sk-toggleable__label-arrow fitted\">estimator: RandomForestClassifier</label><div class=\"sk-toggleable__content fitted\"><pre>RandomForestClassifier()</pre></div> </div></div><div class=\"sk-serial\"><div class=\"sk-item\"><div class=\"sk-estimator fitted sk-toggleable\"><input class=\"sk-toggleable__control sk-hidden--visually\" id=\"sk-estimator-id-8\" type=\"checkbox\" ><label for=\"sk-estimator-id-8\" class=\"sk-toggleable__label fitted sk-toggleable__label-arrow fitted\">&nbsp;RandomForestClassifier<a class=\"sk-estimator-doc-link fitted\" rel=\"noreferrer\" target=\"_blank\" href=\"https://scikit-learn.org/1.4/modules/generated/sklearn.ensemble.RandomForestClassifier.html\">?<span>Documentation for RandomForestClassifier</span></a></label><div class=\"sk-toggleable__content fitted\"><pre>RandomForestClassifier()</pre></div> </div></div></div></div></div></div></div></div></div>"
      ],
      "text/plain": [
       "RandomizedSearchCV(cv=5, estimator=RandomForestClassifier(), n_jobs=-1,\n",
       "                   param_distributions={'class_weight': [None, 'balanced'],\n",
       "                                        'max_depth': [None, 10, 20, 30],\n",
       "                                        'max_features': ['auto', 'sqrt',\n",
       "                                                         'log2'],\n",
       "                                        'min_samples_leaf': [1, 2, 4],\n",
       "                                        'min_samples_split': [2, 5, 10],\n",
       "                                        'n_estimators': [50, 100, 200]},\n",
       "                   scoring='f1')"
      ]
     },
     "execution_count": 82,
     "metadata": {},
     "output_type": "execute_result"
    }
   ],
   "source": [
    "rf_grid = RandomizedSearchCV(RandomForestClassifier(),\n",
    "                             rf_params,\n",
    "                             cv=5,\n",
    "                             scoring='f1',\n",
    "                            n_jobs=-1)\n",
    "rf_grid.fit(X_train_word2vec, y_train)"
   ]
  },
  {
   "cell_type": "code",
   "execution_count": 83,
   "id": "ad7f4b0b",
   "metadata": {
    "ExecuteTime": {
     "end_time": "2024-09-22T08:18:06.779863Z",
     "start_time": "2024-09-22T08:18:06.764355Z"
    }
   },
   "outputs": [
    {
     "name": "stdout",
     "output_type": "stream",
     "text": [
      "Best parameters for Random Forest: {'n_estimators': 100, 'min_samples_split': 2, 'min_samples_leaf': 1, 'max_features': 'log2', 'max_depth': None, 'class_weight': 'balanced'}\n",
      "Best score for Random Forest: nan\n"
     ]
    }
   ],
   "source": [
    "print(\"Best parameters for Random Forest:\", rf_grid.best_params_)\n",
    "print(\"Best score for Random Forest:\", rf_grid.best_score_)"
   ]
  },
  {
   "cell_type": "code",
   "execution_count": 84,
   "id": "118614d1",
   "metadata": {
    "ExecuteTime": {
     "end_time": "2024-09-22T08:18:06.886771Z",
     "start_time": "2024-09-22T08:18:06.781491Z"
    }
   },
   "outputs": [
    {
     "name": "stdout",
     "output_type": "stream",
     "text": [
      "              precision    recall  f1-score   support\n",
      "\n",
      "           0       0.90      0.92      0.91      1025\n",
      "           1       0.88      0.92      0.90       845\n",
      "           2       0.89      0.91      0.90       777\n",
      "           3       0.89      0.89      0.89      1105\n",
      "           4       0.89      0.75      0.81       461\n",
      "\n",
      "    accuracy                           0.89      4213\n",
      "   macro avg       0.89      0.88      0.88      4213\n",
      "weighted avg       0.89      0.89      0.89      4213\n",
      "\n"
     ]
    }
   ],
   "source": [
    "rf_best = rf_grid.best_estimator_\n",
    "y_pred_rf = rf_best.predict(X_test_word2vec)\n",
    "print(classification_report(y_test, y_pred_rf))"
   ]
  },
  {
   "cell_type": "code",
   "execution_count": 85,
   "id": "9b004e37",
   "metadata": {
    "ExecuteTime": {
     "end_time": "2024-09-22T08:18:06.910776Z",
     "start_time": "2024-09-22T08:18:06.889280Z"
    }
   },
   "outputs": [
    {
     "data": {
      "text/plain": [
       "array([ 1.13844268e-01, -4.26322192e-01,  2.74345223e-02,  1.14055015e-01,\n",
       "       -3.08428556e-01,  9.81488228e-02,  4.75533754e-01,  3.00480485e-01,\n",
       "        3.44085135e-02, -3.05940777e-01,  3.06768119e-01,  3.43318731e-01,\n",
       "       -1.69086829e-02,  4.59753990e-01, -3.87222022e-01,  1.46467656e-01,\n",
       "       -2.04559892e-01, -1.42432362e-01, -5.13573885e-01, -8.34044456e-01,\n",
       "        1.95293859e-01,  2.07459867e-01, -1.35524943e-01,  2.94456165e-02,\n",
       "        2.11721897e-01, -1.23489216e-01, -1.58975452e-01, -4.90404248e-01,\n",
       "        3.48568469e-01, -8.11875835e-02, -1.64196759e-01, -4.11090255e-02,\n",
       "       -3.35118860e-01, -4.11318988e-01, -1.43005237e-01,  4.14700061e-01,\n",
       "        9.90844965e-02,  4.20120597e-01,  3.50674540e-01, -8.19889128e-01,\n",
       "        4.72351193e-01, -3.90500203e-02, -1.35133758e-01,  6.31682277e-01,\n",
       "        6.29187346e-01, -2.52031833e-01,  3.46173674e-01, -5.76978587e-02,\n",
       "        6.23302519e-01,  6.52984798e-01, -6.67217672e-01, -6.34962499e-01,\n",
       "        6.87574208e-01, -2.53145367e-01,  2.13834777e-01,  4.76222306e-01,\n",
       "        2.81647354e-01, -2.95369178e-01,  4.71595638e-02,  5.82433581e-01,\n",
       "        5.48498210e-05, -3.45760971e-01,  2.41615862e-01, -4.70743358e-01,\n",
       "        1.70927033e-01,  3.41144651e-02,  2.36747026e-01,  5.87730587e-01,\n",
       "       -8.80421281e-01,  8.26676548e-01,  5.98139428e-02,  7.21682787e-01,\n",
       "        2.46624902e-01, -2.18197867e-01,  4.75543380e-01,  2.75060207e-01,\n",
       "       -2.89912403e-01,  3.11295331e-01, -2.91828334e-01, -2.04500765e-01,\n",
       "       -2.90014952e-01,  2.89549500e-01, -8.75122070e-01,  6.87996894e-02,\n",
       "       -7.49723852e-01, -8.56190264e-01,  6.12295568e-01, -4.57361251e-01,\n",
       "       -4.38622952e-01,  6.53593779e-01,  8.71629417e-02, -3.37444216e-01,\n",
       "       -1.07046939e-01,  2.23326311e-01,  3.51806134e-01,  3.00683756e-03,\n",
       "       -2.77212650e-01,  7.05734417e-02, -1.20042346e-01, -2.52916932e-01],\n",
       "      dtype=float32)"
      ]
     },
     "execution_count": 85,
     "metadata": {},
     "output_type": "execute_result"
    }
   ],
   "source": [
    "get_word2vec_vector('I would like to raise a ticket regarding an issue with my mortgage/loan account and request assistance with [briefly describe the issue, e.g., \"my monthly payment,\" \"loan application status,\" or \"interest rate clarification\"].')"
   ]
  },
  {
   "cell_type": "markdown",
   "id": "899e82f6",
   "metadata": {},
   "source": [
    "# Testing on whole sentence"
   ]
  },
  {
   "cell_type": "code",
   "execution_count": 86,
   "id": "c1267dba",
   "metadata": {
    "ExecuteTime": {
     "end_time": "2024-09-22T08:18:06.942914Z",
     "start_time": "2024-09-22T08:18:06.910776Z"
    }
   },
   "outputs": [
    {
     "data": {
      "text/plain": [
       "array([2], dtype=int64)"
      ]
     },
     "execution_count": 86,
     "metadata": {},
     "output_type": "execute_result"
    }
   ],
   "source": [
    "test_text = 'I would like to raise a ticket regarding an issue with my mortgage or loan account and request assistance with [briefly describe the issue, e.g., \"my monthly payment,\" \"loan application status,\" or \"interest rate clarification\"].'\n",
    "test_word2vec = get_word2vec_vector(get_POS_tags(lemmatize_text(clean_text(test_text))))\n",
    "logistic_best.predict([test_word2vec])"
   ]
  },
  {
   "cell_type": "code",
   "execution_count": 87,
   "id": "da7e1004",
   "metadata": {
    "ExecuteTime": {
     "end_time": "2024-09-22T08:18:06.977664Z",
     "start_time": "2024-09-22T08:18:06.943541Z"
    }
   },
   "outputs": [
    {
     "data": {
      "text/plain": [
       "array([0], dtype=int64)"
      ]
     },
     "execution_count": 87,
     "metadata": {},
     "output_type": "execute_result"
    }
   ],
   "source": [
    "test_text = 'I want to know how to create a bank account in JP morgan chase bank'\n",
    "test_word2vec = get_word2vec_vector(get_POS_tags(lemmatize_text(clean_text(test_text))))\n",
    "logistic_best.predict([test_word2vec])"
   ]
  },
  {
   "cell_type": "code",
   "execution_count": 90,
   "id": "1ee0bb33",
   "metadata": {
    "ExecuteTime": {
     "end_time": "2024-09-22T08:35:52.248532Z",
     "start_time": "2024-09-22T08:35:52.227499Z"
    }
   },
   "outputs": [],
   "source": [
    "import re\n",
    "import numpy as np\n",
    "from textblob import TextBlob\n",
    "import spacy\n",
    "\n",
    "class TextProcessor:\n",
    "    def __init__(self, word2vec_model):\n",
    "        self.word2vec_model = word2vec_model\n",
    "        self.nlp = spacy.load('en_core_web_sm')  # Load your preferred spaCy model\n",
    "\n",
    "    def clean_text(self, text):\n",
    "        text = text.lower()\n",
    "        text = re.sub(r'\\[.*?\\]', '', text)  # Remove text in square brackets\n",
    "        text = re.sub(r'[^\\w\\s]', '', text)  # Remove punctuation\n",
    "        text = re.sub(r'\\b\\w*\\d\\w*\\b', '', text)  # Remove words containing numbers\n",
    "        text = re.sub(r'\\s+', ' ', text).strip()  # Remove extra whitespace\n",
    "        return text\n",
    "\n",
    "    def lemmatize_text(self, text):\n",
    "        doc = self.nlp(text)\n",
    "        lemmatized_text = ' '.join([token.lemma_ for token in doc])\n",
    "        return lemmatized_text\n",
    "\n",
    "    def get_POS_tags(self, text):\n",
    "        tags_required = {'NN', 'JJ', 'VB'}\n",
    "        blob = TextBlob(text)\n",
    "        relevant_words = ' '.join(\n",
    "            [word for word, tag in blob.tags if tag in tags_required]\n",
    "        )\n",
    "        return relevant_words\n",
    "\n",
    "    def get_word2vec_vector(self, sentence):\n",
    "        words = sentence.split()\n",
    "        word_vectors = [\n",
    "            self.word2vec_model.wv[word] for word in words if word in self.word2vec_model.wv\n",
    "        ]\n",
    "        return sum(word_vectors) / len(word_vectors) if word_vectors else np.zeros(self.word2vec_model.vector_size)\n",
    "\n",
    "    def process_text(self, text):\n",
    "        cleaned_text = self.clean_text(text)\n",
    "        lemmatized_text = self.lemmatize_text(cleaned_text)\n",
    "        pos_tags_text = self.get_POS_tags(lemmatized_text)\n",
    "        return self.get_word2vec_vector(pos_tags_text)"
   ]
  },
  {
   "cell_type": "code",
   "execution_count": 91,
   "id": "8b75354d",
   "metadata": {
    "ExecuteTime": {
     "end_time": "2024-09-22T08:35:57.389078Z",
     "start_time": "2024-09-22T08:35:56.902697Z"
    }
   },
   "outputs": [],
   "source": [
    "# Usage\n",
    "# Assuming `word2vec_model` is already defined\n",
    "processor = TextProcessor(word2vec_model)\n",
    "test_text = 'I want to know how to create a bank account in JP Morgan Chase Bank'\n",
    "test_word2vec = processor.process_text(test_text)"
   ]
  },
  {
   "cell_type": "code",
   "execution_count": 92,
   "id": "fe9a2ba3",
   "metadata": {
    "ExecuteTime": {
     "end_time": "2024-09-22T08:36:07.218414Z",
     "start_time": "2024-09-22T08:36:07.211412Z"
    }
   },
   "outputs": [
    {
     "data": {
      "text/plain": [
       "array([0], dtype=int64)"
      ]
     },
     "execution_count": 92,
     "metadata": {},
     "output_type": "execute_result"
    }
   ],
   "source": [
    "logistic_best.predict([test_word2vec])"
   ]
  },
  {
   "cell_type": "markdown",
   "id": "53d0ab86",
   "metadata": {},
   "source": [
    "# Saving Word2Vec Model for text preprocessing"
   ]
  },
  {
   "cell_type": "code",
   "execution_count": 94,
   "id": "d8ca6c1c",
   "metadata": {
    "ExecuteTime": {
     "end_time": "2024-09-22T08:38:52.023540Z",
     "start_time": "2024-09-22T08:38:51.987236Z"
    }
   },
   "outputs": [],
   "source": [
    "with open(r'Models/word2vec_model.pkl', 'wb') as f:\n",
    "    pickle.dump(word2vec_model, f)"
   ]
  },
  {
   "cell_type": "markdown",
   "id": "41d69d15",
   "metadata": {},
   "source": [
    "# Saving the Logistic Regression ML model to classify the ticket"
   ]
  },
  {
   "cell_type": "code",
   "execution_count": 95,
   "id": "47572af5",
   "metadata": {
    "ExecuteTime": {
     "end_time": "2024-09-22T08:40:57.928393Z",
     "start_time": "2024-09-22T08:40:57.921725Z"
    }
   },
   "outputs": [],
   "source": [
    "with open(r'Models/support_classification_model.pkl', 'wb') as f:\n",
    "    pickle.dump(logistic_best, f)"
   ]
  }
 ],
 "metadata": {
  "kernelspec": {
   "display_name": ".venv",
   "language": "python",
   "name": "python3"
  },
  "language_info": {
   "codemirror_mode": {
    "name": "ipython",
    "version": 3
   },
   "file_extension": ".py",
   "mimetype": "text/x-python",
   "name": "python",
   "nbconvert_exporter": "python",
   "pygments_lexer": "ipython3",
   "version": "3.12.4"
  },
  "papermill": {
   "default_parameters": {},
   "duration": 4124.695598,
   "end_time": "2022-02-23T04:25:08.934158",
   "environment_variables": {},
   "exception": null,
   "input_path": "__notebook__.ipynb",
   "output_path": "__notebook__.ipynb",
   "parameters": {},
   "start_time": "2022-02-23T03:16:24.238560",
   "version": "2.3.3"
  }
 },
 "nbformat": 4,
 "nbformat_minor": 5
}
